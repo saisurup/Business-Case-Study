{
 "cells": [
  {
   "cell_type": "code",
   "execution_count": 106,
   "metadata": {},
   "outputs": [],
   "source": [
    "import json\n",
    "import pandas as pd\n",
    "import numpy\n",
    "import matplotlib.pyplot  as plt\n",
    "import seaborn as sns \n",
    "import time"
   ]
  },
  {
   "cell_type": "code",
   "execution_count": 107,
   "metadata": {},
   "outputs": [
    {
     "data": {
      "text/plain": [
       "\"C:\\\\Users\\\\Fu's Computer\\\\Desktop\\\\MBusA Module 5\\\\Business Case Study\\\\yelp_dataset (1)\""
      ]
     },
     "execution_count": 107,
     "metadata": {},
     "output_type": "execute_result"
    }
   ],
   "source": [
    "#set working directory \n",
    "import os\n",
    "os.chdir(\"C:/Users/Fu's Computer/Desktop/MBusA Module 5/Business Case Study/yelp_dataset (1)\")\n",
    "os.getcwd()"
   ]
  },
  {
   "cell_type": "markdown",
   "metadata": {},
   "source": [
    "# Data preparation"
   ]
  },
  {
   "cell_type": "code",
   "execution_count": 108,
   "metadata": {
    "scrolled": true
   },
   "outputs": [
    {
     "name": "stderr",
     "output_type": "stream",
     "text": [
      "C:\\ProgramData\\Anaconda3\\lib\\site-packages\\IPython\\core\\interactiveshell.py:3058: DtypeWarning: Columns (6) have mixed types. Specify dtype option on import or set low_memory=False.\n",
      "  interactivity=interactivity, compiler=compiler, result=result)\n"
     ]
    },
    {
     "name": "stdout",
     "output_type": "stream",
     "text": [
      "<class 'pandas.core.frame.DataFrame'>\n",
      "RangeIndex: 39055 entries, 0 to 39054\n",
      "Data columns (total 47 columns):\n",
      "Unnamed: 0                    39055 non-null int64\n",
      "business_id                   39055 non-null object\n",
      "name                          39055 non-null object\n",
      "address                       38487 non-null object\n",
      "city                          39055 non-null object\n",
      "state                         39055 non-null object\n",
      "postal_code                   38965 non-null object\n",
      "latitude                      39055 non-null float64\n",
      "longitude                     39055 non-null float64\n",
      "stars                         39055 non-null float64\n",
      "review_count                  39055 non-null int64\n",
      "is_open                       39055 non-null int64\n",
      "categories                    39055 non-null object\n",
      "hours                         29943 non-null object\n",
      "GoodForKids                   26107 non-null object\n",
      "RestaurantsReservations       26410 non-null object\n",
      "GoodForMeal                   15477 non-null object\n",
      "BusinessParking               32588 non-null object\n",
      "Caters                        22038 non-null object\n",
      "NoiseLevel                    21789 non-null object\n",
      "RestaurantsTableService       8260 non-null object\n",
      "RestaurantsTakeOut            31688 non-null object\n",
      "RestaurantsPriceRange2        34792 non-null object\n",
      "OutdoorSeating                27277 non-null object\n",
      "BikeParking                   26651 non-null object\n",
      "Ambience                      23966 non-null object\n",
      "HasTV                         23894 non-null object\n",
      "WiFi                          23412 non-null object\n",
      "Alcohol                       24701 non-null object\n",
      "RestaurantsAttire             24730 non-null object\n",
      "RestaurantsGoodForGroups      27029 non-null object\n",
      "RestaurantsDelivery           26557 non-null object\n",
      "BusinessAcceptsCreditCards    36433 non-null object\n",
      "BusinessAcceptsBitcoin        3353 non-null object\n",
      "ByAppointmentOnly             1217 non-null object\n",
      "AcceptsInsurance              164 non-null object\n",
      "Music                         2874 non-null object\n",
      "GoodForDancing                2513 non-null object\n",
      "CoatCheck                     1863 non-null object\n",
      "HappyHour                     2823 non-null object\n",
      "BestNights                    2006 non-null object\n",
      "WheelchairAccessible          5302 non-null object\n",
      "DogsAllowed                   2435 non-null object\n",
      "DriveThru                     1913 non-null object\n",
      "Smoking                       1746 non-null object\n",
      "cuisine                       17314 non-null object\n",
      "sub_cuisine                   26893 non-null object\n",
      "dtypes: float64(3), int64(3), object(41)\n",
      "memory usage: 14.0+ MB\n"
     ]
    }
   ],
   "source": [
    "#read in Other.csv as pandas df \n",
    "business = pd.read_csv(\"Other_V2.csv\")\n",
    "business.info()"
   ]
  },
  {
   "cell_type": "code",
   "execution_count": 109,
   "metadata": {},
   "outputs": [
    {
     "data": {
      "text/plain": [
       "(39055, 47)"
      ]
     },
     "execution_count": 109,
     "metadata": {},
     "output_type": "execute_result"
    }
   ],
   "source": [
    "#shape of business df \n",
    "business.shape"
   ]
  },
  {
   "cell_type": "code",
   "execution_count": 6,
   "metadata": {},
   "outputs": [
    {
     "name": "stdout",
     "output_type": "stream",
     "text": [
      "<class 'pandas.core.frame.DataFrame'>\n",
      "RangeIndex: 1671475 entries, 0 to 1671474\n",
      "Data columns (total 9 columns):\n",
      "review_id      1671475 non-null object\n",
      "user_id        1671475 non-null object\n",
      "business_id    1671475 non-null object\n",
      "stars          1671475 non-null float64\n",
      "useful         1671475 non-null int64\n",
      "funny          1671475 non-null int64\n",
      "cool           1671475 non-null int64\n",
      "text           1671475 non-null object\n",
      "date           1671475 non-null object\n",
      "dtypes: float64(1), int64(3), object(5)\n",
      "memory usage: 114.8+ MB\n"
     ]
    }
   ],
   "source": [
    "#read in reviews.json as pandas df \n",
    "review1 = pd.read_pickle(\"C:/Users/Fu's Computer/Desktop/MBusA Module 5/Business Case Study/yelp_dataset (1)/review1.pkl\")\n",
    "review2 = pd.read_pickle(\"C:/Users/Fu's Computer/Desktop/MBusA Module 5/Business Case Study/yelp_dataset (1)/review2.pkl\")\n",
    "review3 = pd.read_pickle(\"C:/Users/Fu's Computer/Desktop/MBusA Module 5/Business Case Study/yelp_dataset (1)/review3.pkl\")\n",
    "review4 = pd.read_pickle(\"C:/Users/Fu's Computer/Desktop/MBusA Module 5/Business Case Study/yelp_dataset (1)/review4.pkl\")\n",
    "\n",
    "review1.info()"
   ]
  },
  {
   "cell_type": "code",
   "execution_count": 105,
   "metadata": {},
   "outputs": [
    {
     "data": {
      "text/plain": [
       "review_id      0\n",
       "user_id        0\n",
       "business_id    0\n",
       "stars          0\n",
       "useful         0\n",
       "funny          0\n",
       "cool           0\n",
       "text           0\n",
       "date           0\n",
       "dtype: int64"
      ]
     },
     "execution_count": 105,
     "metadata": {},
     "output_type": "execute_result"
    }
   ],
   "source": [
    "## check missing values\n",
    "review2.isnull().sum()"
   ]
  },
  {
   "cell_type": "code",
   "execution_count": 8,
   "metadata": {},
   "outputs": [
    {
     "data": {
      "text/plain": [
       "False    1060609\n",
       "True      610866\n",
       "Name: business_id, dtype: int64"
      ]
     },
     "execution_count": 8,
     "metadata": {},
     "output_type": "execute_result"
    }
   ],
   "source": [
    "review1['business_id'].isin(business['business_id']).value_counts()"
   ]
  },
  {
   "cell_type": "code",
   "execution_count": 104,
   "metadata": {},
   "outputs": [
    {
     "data": {
      "text/plain": [
       "0"
      ]
     },
     "execution_count": 104,
     "metadata": {},
     "output_type": "execute_result"
    }
   ],
   "source": [
    "## check duplicates of review_id\n",
    "review1.review_id.duplicated().sum()"
   ]
  },
  {
   "cell_type": "code",
   "execution_count": 110,
   "metadata": {},
   "outputs": [],
   "source": [
    "## merge business table and review table\n",
    "restaurants_reviews1 = pd.merge(business, review1, on='business_id', how='inner')\n",
    "restaurants_reviews2 = pd.merge(business, review2, on='business_id', how='inner')\n",
    "restaurants_reviews3 = pd.merge(business, review3, on='business_id', how='inner')\n",
    "restaurants_reviews4 = pd.merge(business, review4, on='business_id', how='inner')"
   ]
  },
  {
   "cell_type": "code",
   "execution_count": 111,
   "metadata": {},
   "outputs": [
    {
     "data": {
      "text/plain": [
       "(610866, 55)"
      ]
     },
     "execution_count": 111,
     "metadata": {},
     "output_type": "execute_result"
    }
   ],
   "source": [
    "# how many rows are there \n",
    "restaurants_reviews1.shape\n",
    "#restaurants_reviews2.shape\n",
    "#restaurants_reviews3.shape\n",
    "#restaurants_reviews4.shape"
   ]
  },
  {
   "cell_type": "code",
   "execution_count": 132,
   "metadata": {},
   "outputs": [],
   "source": [
    "restaurants_reviews = restaurants_reviews1.append(restaurants_reviews2, ignore_index = True) "
   ]
  },
  {
   "cell_type": "code",
   "execution_count": 133,
   "metadata": {},
   "outputs": [],
   "source": [
    "restaurants_reviews = restaurants_reviews.append(restaurants_reviews3, ignore_index = True) "
   ]
  },
  {
   "cell_type": "code",
   "execution_count": 134,
   "metadata": {},
   "outputs": [],
   "source": [
    "restaurants_reviews = restaurants_reviews.append(restaurants_reviews4, ignore_index = True) "
   ]
  },
  {
   "cell_type": "code",
   "execution_count": 135,
   "metadata": {
    "scrolled": true
   },
   "outputs": [
    {
     "data": {
      "text/plain": [
       "39054"
      ]
     },
     "execution_count": 135,
     "metadata": {},
     "output_type": "execute_result"
    }
   ],
   "source": [
    "# restaurant reviews contains the same amount of businesses as business df\n",
    "len(restaurants_reviews['business_id'].unique().tolist())"
   ]
  },
  {
   "cell_type": "code",
   "execution_count": 136,
   "metadata": {
    "scrolled": true
   },
   "outputs": [
    {
     "name": "stdout",
     "output_type": "stream",
     "text": [
      "<class 'pandas.core.frame.DataFrame'>\n",
      "RangeIndex: 2423139 entries, 0 to 2423138\n",
      "Data columns (total 55 columns):\n",
      "Unnamed: 0                    int64\n",
      "business_id                   object\n",
      "name                          object\n",
      "address                       object\n",
      "city                          object\n",
      "state                         object\n",
      "postal_code                   object\n",
      "latitude                      float64\n",
      "longitude                     float64\n",
      "stars_x                       float64\n",
      "review_count                  int64\n",
      "is_open                       int64\n",
      "categories                    object\n",
      "hours                         object\n",
      "GoodForKids                   object\n",
      "RestaurantsReservations       object\n",
      "GoodForMeal                   object\n",
      "BusinessParking               object\n",
      "Caters                        object\n",
      "NoiseLevel                    object\n",
      "RestaurantsTableService       object\n",
      "RestaurantsTakeOut            object\n",
      "RestaurantsPriceRange2        object\n",
      "OutdoorSeating                object\n",
      "BikeParking                   object\n",
      "Ambience                      object\n",
      "HasTV                         object\n",
      "WiFi                          object\n",
      "Alcohol                       object\n",
      "RestaurantsAttire             object\n",
      "RestaurantsGoodForGroups      object\n",
      "RestaurantsDelivery           object\n",
      "BusinessAcceptsCreditCards    object\n",
      "BusinessAcceptsBitcoin        object\n",
      "ByAppointmentOnly             object\n",
      "AcceptsInsurance              object\n",
      "Music                         object\n",
      "GoodForDancing                object\n",
      "CoatCheck                     object\n",
      "HappyHour                     object\n",
      "BestNights                    object\n",
      "WheelchairAccessible          object\n",
      "DogsAllowed                   object\n",
      "DriveThru                     object\n",
      "Smoking                       object\n",
      "cuisine                       object\n",
      "sub_cuisine                   object\n",
      "review_id                     object\n",
      "user_id                       object\n",
      "stars_y                       float64\n",
      "useful                        int64\n",
      "funny                         int64\n",
      "cool                          int64\n",
      "text                          object\n",
      "date                          object\n",
      "dtypes: float64(4), int64(6), object(45)\n",
      "memory usage: 1016.8+ MB\n"
     ]
    }
   ],
   "source": [
    "restaurants_reviews.info()"
   ]
  },
  {
   "cell_type": "code",
   "execution_count": 137,
   "metadata": {
    "scrolled": true
   },
   "outputs": [
    {
     "data": {
      "text/plain": [
       "Unnamed: 0                          0\n",
       "business_id                         0\n",
       "name                                0\n",
       "address                          8255\n",
       "city                                0\n",
       "state                               0\n",
       "postal_code                      1095\n",
       "latitude                            0\n",
       "longitude                           0\n",
       "stars_x                             0\n",
       "review_count                        0\n",
       "is_open                             0\n",
       "categories                          0\n",
       "hours                          144210\n",
       "GoodForKids                    284052\n",
       "RestaurantsReservations        265826\n",
       "GoodForMeal                    591533\n",
       "BusinessParking                 68324\n",
       "Caters                         295906\n",
       "NoiseLevel                     347251\n",
       "RestaurantsTableService       1463814\n",
       "RestaurantsTakeOut             110572\n",
       "RestaurantsPriceRange2          36962\n",
       "OutdoorSeating                 206176\n",
       "BikeParking                    183496\n",
       "Ambience                       292690\n",
       "HasTV                          293276\n",
       "WiFi                           249366\n",
       "Alcohol                        265586\n",
       "RestaurantsAttire              322673\n",
       "RestaurantsGoodForGroups       256685\n",
       "RestaurantsDelivery            253892\n",
       "BusinessAcceptsCreditCards      19731\n",
       "BusinessAcceptsBitcoin        2017602\n",
       "ByAppointmentOnly             2323185\n",
       "AcceptsInsurance              2420404\n",
       "Music                         1990016\n",
       "GoodForDancing                2054354\n",
       "CoatCheck                     2171756\n",
       "HappyHour                     2066035\n",
       "BestNights                    2056635\n",
       "WheelchairAccessible          1836204\n",
       "DogsAllowed                   2132812\n",
       "DriveThru                     2251138\n",
       "Smoking                       2183866\n",
       "cuisine                        827039\n",
       "sub_cuisine                    516179\n",
       "review_id                           0\n",
       "user_id                             0\n",
       "stars_y                             0\n",
       "useful                              0\n",
       "funny                               0\n",
       "cool                                0\n",
       "text                                0\n",
       "date                                0\n",
       "dtype: int64"
      ]
     },
     "execution_count": 137,
     "metadata": {},
     "output_type": "execute_result"
    }
   ],
   "source": [
    "## check missing values\n",
    "restaurants_reviews.isnull().sum()"
   ]
  },
  {
   "cell_type": "code",
   "execution_count": 138,
   "metadata": {},
   "outputs": [],
   "source": [
    "#drop rows where review id is missing\n",
    "restaurants_reviews.dropna(subset=['review_id'],inplace=True)"
   ]
  },
  {
   "cell_type": "code",
   "execution_count": 139,
   "metadata": {
    "scrolled": true
   },
   "outputs": [
    {
     "data": {
      "text/plain": [
       "Unnamed: 0                          0\n",
       "business_id                         0\n",
       "name                                0\n",
       "address                          8255\n",
       "city                                0\n",
       "state                               0\n",
       "postal_code                      1095\n",
       "latitude                            0\n",
       "longitude                           0\n",
       "stars_x                             0\n",
       "review_count                        0\n",
       "is_open                             0\n",
       "categories                          0\n",
       "hours                          144210\n",
       "GoodForKids                    284052\n",
       "RestaurantsReservations        265826\n",
       "GoodForMeal                    591533\n",
       "BusinessParking                 68324\n",
       "Caters                         295906\n",
       "NoiseLevel                     347251\n",
       "RestaurantsTableService       1463814\n",
       "RestaurantsTakeOut             110572\n",
       "RestaurantsPriceRange2          36962\n",
       "OutdoorSeating                 206176\n",
       "BikeParking                    183496\n",
       "Ambience                       292690\n",
       "HasTV                          293276\n",
       "WiFi                           249366\n",
       "Alcohol                        265586\n",
       "RestaurantsAttire              322673\n",
       "RestaurantsGoodForGroups       256685\n",
       "RestaurantsDelivery            253892\n",
       "BusinessAcceptsCreditCards      19731\n",
       "BusinessAcceptsBitcoin        2017602\n",
       "ByAppointmentOnly             2323185\n",
       "AcceptsInsurance              2420404\n",
       "Music                         1990016\n",
       "GoodForDancing                2054354\n",
       "CoatCheck                     2171756\n",
       "HappyHour                     2066035\n",
       "BestNights                    2056635\n",
       "WheelchairAccessible          1836204\n",
       "DogsAllowed                   2132812\n",
       "DriveThru                     2251138\n",
       "Smoking                       2183866\n",
       "cuisine                        827039\n",
       "sub_cuisine                    516179\n",
       "review_id                           0\n",
       "user_id                             0\n",
       "stars_y                             0\n",
       "useful                              0\n",
       "funny                               0\n",
       "cool                                0\n",
       "text                                0\n",
       "date                                0\n",
       "dtype: int64"
      ]
     },
     "execution_count": 139,
     "metadata": {},
     "output_type": "execute_result"
    }
   ],
   "source": [
    "## check missing values\n",
    "restaurants_reviews.isnull().sum()"
   ]
  },
  {
   "cell_type": "code",
   "execution_count": 140,
   "metadata": {},
   "outputs": [
    {
     "data": {
      "text/plain": [
       "(2423139, 55)"
      ]
     },
     "execution_count": 140,
     "metadata": {},
     "output_type": "execute_result"
    }
   ],
   "source": [
    "## check shape of df  (34% do not have a cuisine label)\n",
    "restaurants_reviews.shape"
   ]
  },
  {
   "cell_type": "code",
   "execution_count": 141,
   "metadata": {},
   "outputs": [],
   "source": [
    "## update column names\n",
    "restaurants_reviews.rename(columns={'stars_x':'avg_star','stars_y':'review_star'}, inplace=True)"
   ]
  },
  {
   "cell_type": "code",
   "execution_count": 142,
   "metadata": {},
   "outputs": [],
   "source": [
    "## update date column to datetime format\n",
    "restaurants_reviews['date'] =  pd.to_datetime(restaurants_reviews['date'])"
   ]
  },
  {
   "cell_type": "code",
   "execution_count": 143,
   "metadata": {
    "scrolled": true
   },
   "outputs": [
    {
     "data": {
      "text/plain": [
       "Unnamed: 0                             int64\n",
       "business_id                           object\n",
       "name                                  object\n",
       "address                               object\n",
       "city                                  object\n",
       "state                                 object\n",
       "postal_code                           object\n",
       "latitude                             float64\n",
       "longitude                            float64\n",
       "avg_star                             float64\n",
       "review_count                           int64\n",
       "is_open                                int64\n",
       "categories                            object\n",
       "hours                                 object\n",
       "GoodForKids                           object\n",
       "RestaurantsReservations               object\n",
       "GoodForMeal                           object\n",
       "BusinessParking                       object\n",
       "Caters                                object\n",
       "NoiseLevel                            object\n",
       "RestaurantsTableService               object\n",
       "RestaurantsTakeOut                    object\n",
       "RestaurantsPriceRange2                object\n",
       "OutdoorSeating                        object\n",
       "BikeParking                           object\n",
       "Ambience                              object\n",
       "HasTV                                 object\n",
       "WiFi                                  object\n",
       "Alcohol                               object\n",
       "RestaurantsAttire                     object\n",
       "RestaurantsGoodForGroups              object\n",
       "RestaurantsDelivery                   object\n",
       "BusinessAcceptsCreditCards            object\n",
       "BusinessAcceptsBitcoin                object\n",
       "ByAppointmentOnly                     object\n",
       "AcceptsInsurance                      object\n",
       "Music                                 object\n",
       "GoodForDancing                        object\n",
       "CoatCheck                             object\n",
       "HappyHour                             object\n",
       "BestNights                            object\n",
       "WheelchairAccessible                  object\n",
       "DogsAllowed                           object\n",
       "DriveThru                             object\n",
       "Smoking                               object\n",
       "cuisine                               object\n",
       "sub_cuisine                           object\n",
       "review_id                             object\n",
       "user_id                               object\n",
       "review_star                          float64\n",
       "useful                                 int64\n",
       "funny                                  int64\n",
       "cool                                   int64\n",
       "text                                  object\n",
       "date                          datetime64[ns]\n",
       "dtype: object"
      ]
     },
     "execution_count": 143,
     "metadata": {},
     "output_type": "execute_result"
    }
   ],
   "source": [
    "#check data type\n",
    "restaurants_reviews.dtypes"
   ]
  },
  {
   "cell_type": "code",
   "execution_count": 144,
   "metadata": {},
   "outputs": [],
   "source": [
    "#drop some sparse columns in the attribute df\n",
    "restaurants_reviews.drop(['Unnamed: 0'], axis=1, inplace=True)"
   ]
  },
  {
   "cell_type": "markdown",
   "metadata": {},
   "source": [
    "# Analysing trends in each cuisine "
   ]
  },
  {
   "cell_type": "code",
   "execution_count": 145,
   "metadata": {},
   "outputs": [],
   "source": [
    "#drop rows where cuisine is missing\n",
    "review_cuisine = restaurants_reviews.dropna(subset=['cuisine'])"
   ]
  },
  {
   "cell_type": "code",
   "execution_count": 146,
   "metadata": {},
   "outputs": [],
   "source": [
    "#set date as index \n",
    "review_cuisine = review_cuisine.set_index('date')"
   ]
  },
  {
   "cell_type": "code",
   "execution_count": 147,
   "metadata": {
    "scrolled": true
   },
   "outputs": [
    {
     "data": {
      "text/html": [
       "<div>\n",
       "<style scoped>\n",
       "    .dataframe tbody tr th:only-of-type {\n",
       "        vertical-align: middle;\n",
       "    }\n",
       "\n",
       "    .dataframe tbody tr th {\n",
       "        vertical-align: top;\n",
       "    }\n",
       "\n",
       "    .dataframe thead th {\n",
       "        text-align: right;\n",
       "    }\n",
       "</style>\n",
       "<table border=\"1\" class=\"dataframe\">\n",
       "  <thead>\n",
       "    <tr style=\"text-align: right;\">\n",
       "      <th></th>\n",
       "      <th>business_id</th>\n",
       "      <th>name</th>\n",
       "      <th>address</th>\n",
       "      <th>city</th>\n",
       "      <th>state</th>\n",
       "      <th>postal_code</th>\n",
       "      <th>latitude</th>\n",
       "      <th>longitude</th>\n",
       "      <th>avg_star</th>\n",
       "      <th>review_count</th>\n",
       "      <th>...</th>\n",
       "      <th>Smoking</th>\n",
       "      <th>cuisine</th>\n",
       "      <th>sub_cuisine</th>\n",
       "      <th>review_id</th>\n",
       "      <th>user_id</th>\n",
       "      <th>review_star</th>\n",
       "      <th>useful</th>\n",
       "      <th>funny</th>\n",
       "      <th>cool</th>\n",
       "      <th>text</th>\n",
       "    </tr>\n",
       "    <tr>\n",
       "      <th>date</th>\n",
       "      <th></th>\n",
       "      <th></th>\n",
       "      <th></th>\n",
       "      <th></th>\n",
       "      <th></th>\n",
       "      <th></th>\n",
       "      <th></th>\n",
       "      <th></th>\n",
       "      <th></th>\n",
       "      <th></th>\n",
       "      <th></th>\n",
       "      <th></th>\n",
       "      <th></th>\n",
       "      <th></th>\n",
       "      <th></th>\n",
       "      <th></th>\n",
       "      <th></th>\n",
       "      <th></th>\n",
       "      <th></th>\n",
       "      <th></th>\n",
       "      <th></th>\n",
       "    </tr>\n",
       "  </thead>\n",
       "  <tbody>\n",
       "    <tr>\n",
       "      <td>2014-02-24 02:51:56</td>\n",
       "      <td>gnKjwL_1w79qoiV3IC_xQQ</td>\n",
       "      <td>Musashi Japanese Restaurant</td>\n",
       "      <td>10110 Johnston Rd, Ste 15</td>\n",
       "      <td>Charlotte</td>\n",
       "      <td>NC</td>\n",
       "      <td>28210</td>\n",
       "      <td>35.092564</td>\n",
       "      <td>-80.859132</td>\n",
       "      <td>4.0</td>\n",
       "      <td>170</td>\n",
       "      <td>...</td>\n",
       "      <td>NaN</td>\n",
       "      <td>Japanese</td>\n",
       "      <td>Sushi Bars</td>\n",
       "      <td>F7POrJsNbhu493DSTMPXjw</td>\n",
       "      <td>nsS4oDfOsl20QdWc6XcOkw</td>\n",
       "      <td>2.0</td>\n",
       "      <td>1</td>\n",
       "      <td>0</td>\n",
       "      <td>0</td>\n",
       "      <td>Husband was craving Chicken Teriyaki &amp; gyoza, ...</td>\n",
       "    </tr>\n",
       "    <tr>\n",
       "      <td>2014-07-13 20:28:18</td>\n",
       "      <td>gnKjwL_1w79qoiV3IC_xQQ</td>\n",
       "      <td>Musashi Japanese Restaurant</td>\n",
       "      <td>10110 Johnston Rd, Ste 15</td>\n",
       "      <td>Charlotte</td>\n",
       "      <td>NC</td>\n",
       "      <td>28210</td>\n",
       "      <td>35.092564</td>\n",
       "      <td>-80.859132</td>\n",
       "      <td>4.0</td>\n",
       "      <td>170</td>\n",
       "      <td>...</td>\n",
       "      <td>NaN</td>\n",
       "      <td>Japanese</td>\n",
       "      <td>Sushi Bars</td>\n",
       "      <td>c-6aA9Bd7JxpmMroRoas9A</td>\n",
       "      <td>bK4Y_GZUoAUTXIrmeEUGYw</td>\n",
       "      <td>4.0</td>\n",
       "      <td>0</td>\n",
       "      <td>0</td>\n",
       "      <td>1</td>\n",
       "      <td>Went there Saturday noon they open at 12pm but...</td>\n",
       "    </tr>\n",
       "    <tr>\n",
       "      <td>2018-05-09 00:39:36</td>\n",
       "      <td>gnKjwL_1w79qoiV3IC_xQQ</td>\n",
       "      <td>Musashi Japanese Restaurant</td>\n",
       "      <td>10110 Johnston Rd, Ste 15</td>\n",
       "      <td>Charlotte</td>\n",
       "      <td>NC</td>\n",
       "      <td>28210</td>\n",
       "      <td>35.092564</td>\n",
       "      <td>-80.859132</td>\n",
       "      <td>4.0</td>\n",
       "      <td>170</td>\n",
       "      <td>...</td>\n",
       "      <td>NaN</td>\n",
       "      <td>Japanese</td>\n",
       "      <td>Sushi Bars</td>\n",
       "      <td>P_MV_lMQjLIO9R7M_KIuMg</td>\n",
       "      <td>sbbB6Y4yIZIInvt0LFYYew</td>\n",
       "      <td>2.0</td>\n",
       "      <td>1</td>\n",
       "      <td>0</td>\n",
       "      <td>0</td>\n",
       "      <td>Went to this restaurant on Saturday as I had a...</td>\n",
       "    </tr>\n",
       "  </tbody>\n",
       "</table>\n",
       "<p>3 rows × 53 columns</p>\n",
       "</div>"
      ],
      "text/plain": [
       "                                business_id                         name  \\\n",
       "date                                                                       \n",
       "2014-02-24 02:51:56  gnKjwL_1w79qoiV3IC_xQQ  Musashi Japanese Restaurant   \n",
       "2014-07-13 20:28:18  gnKjwL_1w79qoiV3IC_xQQ  Musashi Japanese Restaurant   \n",
       "2018-05-09 00:39:36  gnKjwL_1w79qoiV3IC_xQQ  Musashi Japanese Restaurant   \n",
       "\n",
       "                                       address       city state postal_code  \\\n",
       "date                                                                          \n",
       "2014-02-24 02:51:56  10110 Johnston Rd, Ste 15  Charlotte    NC       28210   \n",
       "2014-07-13 20:28:18  10110 Johnston Rd, Ste 15  Charlotte    NC       28210   \n",
       "2018-05-09 00:39:36  10110 Johnston Rd, Ste 15  Charlotte    NC       28210   \n",
       "\n",
       "                      latitude  longitude  avg_star  review_count  ...  \\\n",
       "date                                                               ...   \n",
       "2014-02-24 02:51:56  35.092564 -80.859132       4.0           170  ...   \n",
       "2014-07-13 20:28:18  35.092564 -80.859132       4.0           170  ...   \n",
       "2018-05-09 00:39:36  35.092564 -80.859132       4.0           170  ...   \n",
       "\n",
       "                     Smoking   cuisine sub_cuisine               review_id  \\\n",
       "date                                                                         \n",
       "2014-02-24 02:51:56      NaN  Japanese  Sushi Bars  F7POrJsNbhu493DSTMPXjw   \n",
       "2014-07-13 20:28:18      NaN  Japanese  Sushi Bars  c-6aA9Bd7JxpmMroRoas9A   \n",
       "2018-05-09 00:39:36      NaN  Japanese  Sushi Bars  P_MV_lMQjLIO9R7M_KIuMg   \n",
       "\n",
       "                                    user_id review_star useful funny cool  \\\n",
       "date                                                                        \n",
       "2014-02-24 02:51:56  nsS4oDfOsl20QdWc6XcOkw         2.0      1     0    0   \n",
       "2014-07-13 20:28:18  bK4Y_GZUoAUTXIrmeEUGYw         4.0      0     0    1   \n",
       "2018-05-09 00:39:36  sbbB6Y4yIZIInvt0LFYYew         2.0      1     0    0   \n",
       "\n",
       "                                                                  text  \n",
       "date                                                                    \n",
       "2014-02-24 02:51:56  Husband was craving Chicken Teriyaki & gyoza, ...  \n",
       "2014-07-13 20:28:18  Went there Saturday noon they open at 12pm but...  \n",
       "2018-05-09 00:39:36  Went to this restaurant on Saturday as I had a...  \n",
       "\n",
       "[3 rows x 53 columns]"
      ]
     },
     "execution_count": 147,
     "metadata": {},
     "output_type": "execute_result"
    }
   ],
   "source": [
    "review_cuisine.head(3)"
   ]
  },
  {
   "cell_type": "code",
   "execution_count": 148,
   "metadata": {},
   "outputs": [],
   "source": [
    "reviews_only = review_cuisine[['business_id','name','address','city','state','avg_star','review_count','categories','cuisine','review_id','user_id','review_star','useful','funny','cool','text']]"
   ]
  },
  {
   "cell_type": "code",
   "execution_count": 35,
   "metadata": {
    "scrolled": true
   },
   "outputs": [
    {
     "data": {
      "text/plain": [
       "(1596100, 16)"
      ]
     },
     "execution_count": 35,
     "metadata": {},
     "output_type": "execute_result"
    }
   ],
   "source": [
    "reviews_only.shape"
   ]
  },
  {
   "cell_type": "code",
   "execution_count": 36,
   "metadata": {},
   "outputs": [
    {
     "name": "stdout",
     "output_type": "stream",
     "text": [
      "2004-10-12 10:13:32\n",
      "2018-11-14 18:10:58\n"
     ]
    }
   ],
   "source": [
    "# check min and max date of reviews\n",
    "print (reviews_only.index.min())\n",
    "print (reviews_only.index.max())"
   ]
  },
  {
   "cell_type": "code",
   "execution_count": 37,
   "metadata": {},
   "outputs": [],
   "source": [
    "#test = reviews_only.groupby(['cuisine','date']).review_id.value_counts()"
   ]
  },
  {
   "cell_type": "code",
   "execution_count": 38,
   "metadata": {},
   "outputs": [
    {
     "name": "stderr",
     "output_type": "stream",
     "text": [
      "C:\\ProgramData\\Anaconda3\\lib\\site-packages\\pandas\\core\\indexing.py:376: SettingWithCopyWarning: \n",
      "A value is trying to be set on a copy of a slice from a DataFrame.\n",
      "Try using .loc[row_indexer,col_indexer] = value instead\n",
      "\n",
      "See the caveats in the documentation: http://pandas.pydata.org/pandas-docs/stable/user_guide/indexing.html#returning-a-view-versus-a-copy\n",
      "  self.obj[key] = _infer_fill_value(value)\n",
      "C:\\ProgramData\\Anaconda3\\lib\\site-packages\\pandas\\core\\indexing.py:494: SettingWithCopyWarning: \n",
      "A value is trying to be set on a copy of a slice from a DataFrame.\n",
      "Try using .loc[row_indexer,col_indexer] = value instead\n",
      "\n",
      "See the caveats in the documentation: http://pandas.pydata.org/pandas-docs/stable/user_guide/indexing.html#returning-a-view-versus-a-copy\n",
      "  self.obj[item] = s\n"
     ]
    }
   ],
   "source": [
    "#set number of reviews in each row to 1 \n",
    "reviews_only.loc[:,'number of reviews'] = int(1)"
   ]
  },
  {
   "cell_type": "code",
   "execution_count": 39,
   "metadata": {},
   "outputs": [
    {
     "data": {
      "text/plain": [
       "date\n",
       "2004-12-31         4\n",
       "2005-12-31       275\n",
       "2006-12-31      1431\n",
       "2007-12-31      5609\n",
       "2008-12-31     15316\n",
       "2009-12-31     26709\n",
       "2010-12-31     47668\n",
       "2011-12-31     74816\n",
       "2012-12-31     88490\n",
       "2013-12-31    119339\n",
       "2014-12-31    169794\n",
       "2015-12-31    226507\n",
       "2016-12-31    256217\n",
       "2017-12-31    287885\n",
       "2018-12-31    276040\n",
       "Freq: A-DEC, Name: number of reviews, dtype: int64"
      ]
     },
     "execution_count": 39,
     "metadata": {},
     "output_type": "execute_result"
    }
   ],
   "source": [
    "# show total number of reviews each year\n",
    "test2 = reviews_only.groupby([pd.Grouper(level ='date',freq='A')])['number of reviews'].count()\n",
    "test2"
   ]
  },
  {
   "cell_type": "code",
   "execution_count": 40,
   "metadata": {},
   "outputs": [
    {
     "data": {
      "text/plain": [
       "(1596100, 17)"
      ]
     },
     "execution_count": 40,
     "metadata": {},
     "output_type": "execute_result"
    }
   ],
   "source": [
    "reviews_only.shape"
   ]
  },
  {
   "cell_type": "code",
   "execution_count": 41,
   "metadata": {},
   "outputs": [],
   "source": [
    "# create column that shows total number of reviews between a date range\n",
    "reviews2004 = reviews_only.loc['2004-01-01':'2004-12-31']\n",
    "reviews2005 = reviews_only.loc['2005-01-01':'2005-12-31']\n",
    "reviews2006 = reviews_only.loc['2006-01-01':'2006-12-31']\n",
    "reviews2007 = reviews_only.loc['2007-01-01':'2007-12-31']\n",
    "reviews2008 = reviews_only.loc['2008-01-01':'2008-12-31']\n",
    "reviews2009 = reviews_only.loc['2009-01-01':'2009-12-31']\n",
    "reviews2010 = reviews_only.loc['2010-01-01':'2010-12-31']\n",
    "reviews2011 = reviews_only.loc['2011-01-01':'2011-12-31']\n",
    "reviews2012 = reviews_only.loc['2012-01-01':'2012-12-31']\n",
    "reviews2013 = reviews_only.loc['2013-01-01':'2013-12-31']\n",
    "reviews2014 = reviews_only.loc['2014-01-01':'2014-12-31']\n",
    "reviews2015 = reviews_only.loc['2015-01-01':'2015-12-31']\n",
    "reviews2016 = reviews_only.loc['2016-01-01':'2016-12-31']\n",
    "reviews2017 = reviews_only.loc['2017-01-01':'2017-12-31']\n",
    "reviews2018 = reviews_only.loc['2018-01-01':'2018-12-31']"
   ]
  },
  {
   "cell_type": "code",
   "execution_count": 42,
   "metadata": {
    "scrolled": true
   },
   "outputs": [],
   "source": [
    "# create column that shows total number of reviews between a date range\n",
    "reviews2004.loc[:,'total reviews in cal year'] = 4\n",
    "reviews2005.loc[:,'total reviews in cal year'] = 275\n",
    "reviews2006.loc[:,'total reviews in cal year'] = 1431\n",
    "reviews2007.loc[:,'total reviews in cal year'] = 5609\n",
    "reviews2008.loc[:,'total reviews in cal year'] = 15316\n",
    "reviews2009.loc[:,'total reviews in cal year'] = 26709\n",
    "reviews2010.loc[:,'total reviews in cal year'] = 47668\n",
    "reviews2011.loc[:,'total reviews in cal year'] = 74816\n",
    "reviews2012.loc[:,'total reviews in cal year'] = 88490\n",
    "reviews2013.loc[:,'total reviews in cal year'] = 119339\n",
    "reviews2014.loc[:,'total reviews in cal year'] = 169794\n",
    "reviews2015.loc[:,'total reviews in cal year'] = 226507\n",
    "reviews2016.loc[:,'total reviews in cal year'] = 256217\n",
    "reviews2017.loc[:,'total reviews in cal year'] = 287885\n",
    "reviews2018.loc[:,'total reviews in cal year'] = 276040"
   ]
  },
  {
   "cell_type": "code",
   "execution_count": 43,
   "metadata": {},
   "outputs": [],
   "source": [
    "# create column that shows total number of reviews between a date range\n",
    "reviews_only = reviews2004.append(reviews2005) \n",
    "reviews_only = reviews_only.append(reviews2006)\n",
    "reviews_only = reviews_only.append(reviews2007)\n",
    "reviews_only = reviews_only.append(reviews2008)\n",
    "reviews_only = reviews_only.append(reviews2009)\n",
    "reviews_only = reviews_only.append(reviews2010)\n",
    "reviews_only = reviews_only.append(reviews2011)\n",
    "reviews_only = reviews_only.append(reviews2012)\n",
    "reviews_only = reviews_only.append(reviews2013)\n",
    "reviews_only = reviews_only.append(reviews2014)\n",
    "reviews_only = reviews_only.append(reviews2015)\n",
    "reviews_only = reviews_only.append(reviews2016)\n",
    "reviews_only = reviews_only.append(reviews2017)\n",
    "reviews_only = reviews_only.append(reviews2018)"
   ]
  },
  {
   "cell_type": "code",
   "execution_count": 44,
   "metadata": {},
   "outputs": [
    {
     "data": {
      "text/plain": [
       "(1596100, 18)"
      ]
     },
     "execution_count": 44,
     "metadata": {},
     "output_type": "execute_result"
    }
   ],
   "source": [
    "#check all rows have been appended\n",
    "reviews_only.shape"
   ]
  },
  {
   "cell_type": "code",
   "execution_count": 45,
   "metadata": {},
   "outputs": [],
   "source": [
    "#normalise review count by dividing it by total number of reviews in the year\n",
    "reviews_only.loc[:,'normalised review count'] = reviews_only['number of reviews']/reviews_only['total reviews in cal year']"
   ]
  },
  {
   "cell_type": "code",
   "execution_count": 87,
   "metadata": {},
   "outputs": [
    {
     "data": {
      "text/html": [
       "<div>\n",
       "<style scoped>\n",
       "    .dataframe tbody tr th:only-of-type {\n",
       "        vertical-align: middle;\n",
       "    }\n",
       "\n",
       "    .dataframe tbody tr th {\n",
       "        vertical-align: top;\n",
       "    }\n",
       "\n",
       "    .dataframe thead th {\n",
       "        text-align: right;\n",
       "    }\n",
       "</style>\n",
       "<table border=\"1\" class=\"dataframe\">\n",
       "  <thead>\n",
       "    <tr style=\"text-align: right;\">\n",
       "      <th></th>\n",
       "      <th>normalised review count</th>\n",
       "    </tr>\n",
       "    <tr>\n",
       "      <th>date</th>\n",
       "      <th></th>\n",
       "    </tr>\n",
       "  </thead>\n",
       "  <tbody>\n",
       "    <tr>\n",
       "      <td>2005-12-31</td>\n",
       "      <td>0.054545</td>\n",
       "    </tr>\n",
       "    <tr>\n",
       "      <td>2006-12-31</td>\n",
       "      <td>0.067086</td>\n",
       "    </tr>\n",
       "    <tr>\n",
       "      <td>2007-12-31</td>\n",
       "      <td>0.072919</td>\n",
       "    </tr>\n",
       "    <tr>\n",
       "      <td>2008-12-31</td>\n",
       "      <td>0.066532</td>\n",
       "    </tr>\n",
       "    <tr>\n",
       "      <td>2009-12-31</td>\n",
       "      <td>0.064510</td>\n",
       "    </tr>\n",
       "    <tr>\n",
       "      <td>2010-12-31</td>\n",
       "      <td>0.060376</td>\n",
       "    </tr>\n",
       "    <tr>\n",
       "      <td>2011-12-31</td>\n",
       "      <td>0.056552</td>\n",
       "    </tr>\n",
       "    <tr>\n",
       "      <td>2012-12-31</td>\n",
       "      <td>0.050706</td>\n",
       "    </tr>\n",
       "    <tr>\n",
       "      <td>2013-12-31</td>\n",
       "      <td>0.050880</td>\n",
       "    </tr>\n",
       "    <tr>\n",
       "      <td>2014-12-31</td>\n",
       "      <td>0.050726</td>\n",
       "    </tr>\n",
       "  </tbody>\n",
       "</table>\n",
       "</div>"
      ],
      "text/plain": [
       "            normalised review count\n",
       "date                               \n",
       "2005-12-31                 0.054545\n",
       "2006-12-31                 0.067086\n",
       "2007-12-31                 0.072919\n",
       "2008-12-31                 0.066532\n",
       "2009-12-31                 0.064510\n",
       "2010-12-31                 0.060376\n",
       "2011-12-31                 0.056552\n",
       "2012-12-31                 0.050706\n",
       "2013-12-31                 0.050880\n",
       "2014-12-31                 0.050726"
      ]
     },
     "execution_count": 87,
     "metadata": {},
     "output_type": "execute_result"
    }
   ],
   "source": [
    "#seperate out Japanese cuisine\n",
    "Japanese = reviews_only[reviews_only.cuisine == 'Japanese']\n",
    "# Specify the data columns we want to include \n",
    "data_columns = ['normalised review count']\n",
    "# Resample to weekly frequency, aggregating with mean\n",
    "Japanese_yearly = Japanese[data_columns].resample('A').sum()\n",
    "Japanese_yearly.head(10)"
   ]
  },
  {
   "cell_type": "code",
   "execution_count": 174,
   "metadata": {},
   "outputs": [],
   "source": [
    "# Start and end of the date range to extract (remove first few years as they have too few reviews)\n",
    "start, end = '2007-01-01', '2018-11-14 18:09:01'"
   ]
  },
  {
   "cell_type": "code",
   "execution_count": 88,
   "metadata": {},
   "outputs": [
    {
     "data": {
      "image/png": "[encoded data removed]",
      "text/plain": [
       "<Figure size 432x288 with 1 Axes>"
      ]
     },
     "metadata": {
      "needs_background": "light"
     },
     "output_type": "display_data"
    }
   ],
   "source": [
    "# Plot real time and weekly resampled time series together\n",
    "fig, ax = plt.subplots()\n",
    "ax.plot(Japanese_yearly.loc[start:end, 'normalised review count'],\n",
    "marker = 'o', markersize = 8,linestyle='-', label='Yearly Normalised Count Resample')\n",
    "ax.set_ylabel('Number of reviews / Total reviews in Cal Year')\n",
    "ax.legend()\n",
    "plt.title('Japanese Cuisine');"
   ]
  },
  {
   "cell_type": "code",
   "execution_count": 52,
   "metadata": {},
   "outputs": [
    {
     "data": {
      "text/html": [
       "<div>\n",
       "<style scoped>\n",
       "    .dataframe tbody tr th:only-of-type {\n",
       "        vertical-align: middle;\n",
       "    }\n",
       "\n",
       "    .dataframe tbody tr th {\n",
       "        vertical-align: top;\n",
       "    }\n",
       "\n",
       "    .dataframe thead th {\n",
       "        text-align: right;\n",
       "    }\n",
       "</style>\n",
       "<table border=\"1\" class=\"dataframe\">\n",
       "  <thead>\n",
       "    <tr style=\"text-align: right;\">\n",
       "      <th></th>\n",
       "      <th>normalised review count</th>\n",
       "    </tr>\n",
       "    <tr>\n",
       "      <th>date</th>\n",
       "      <th></th>\n",
       "    </tr>\n",
       "  </thead>\n",
       "  <tbody>\n",
       "    <tr>\n",
       "      <td>2004-12-31</td>\n",
       "      <td>0.250000</td>\n",
       "    </tr>\n",
       "    <tr>\n",
       "      <td>2005-12-31</td>\n",
       "      <td>0.472727</td>\n",
       "    </tr>\n",
       "    <tr>\n",
       "      <td>2006-12-31</td>\n",
       "      <td>0.403913</td>\n",
       "    </tr>\n",
       "    <tr>\n",
       "      <td>2007-12-31</td>\n",
       "      <td>0.391335</td>\n",
       "    </tr>\n",
       "    <tr>\n",
       "      <td>2008-12-31</td>\n",
       "      <td>0.355119</td>\n",
       "    </tr>\n",
       "    <tr>\n",
       "      <td>2009-12-31</td>\n",
       "      <td>0.350930</td>\n",
       "    </tr>\n",
       "    <tr>\n",
       "      <td>2010-12-31</td>\n",
       "      <td>0.376563</td>\n",
       "    </tr>\n",
       "    <tr>\n",
       "      <td>2011-12-31</td>\n",
       "      <td>0.398204</td>\n",
       "    </tr>\n",
       "    <tr>\n",
       "      <td>2012-12-31</td>\n",
       "      <td>0.414397</td>\n",
       "    </tr>\n",
       "    <tr>\n",
       "      <td>2013-12-31</td>\n",
       "      <td>0.413444</td>\n",
       "    </tr>\n",
       "  </tbody>\n",
       "</table>\n",
       "</div>"
      ],
      "text/plain": [
       "            normalised review count\n",
       "date                               \n",
       "2004-12-31                 0.250000\n",
       "2005-12-31                 0.472727\n",
       "2006-12-31                 0.403913\n",
       "2007-12-31                 0.391335\n",
       "2008-12-31                 0.355119\n",
       "2009-12-31                 0.350930\n",
       "2010-12-31                 0.376563\n",
       "2011-12-31                 0.398204\n",
       "2012-12-31                 0.414397\n",
       "2013-12-31                 0.413444"
      ]
     },
     "execution_count": 52,
     "metadata": {},
     "output_type": "execute_result"
    }
   ],
   "source": [
    "# Seperate out American cuisine\n",
    "American = reviews_only[reviews_only.cuisine == 'American']\n",
    "# Specify the data columns we want to include \n",
    "data_columns = ['normalised review count']\n",
    "# Resample to weekly frequency, aggregating with mean\n",
    "American_yearly = American[data_columns].resample('A').sum()\n",
    "American_yearly.head(10)"
   ]
  },
  {
   "cell_type": "code",
   "execution_count": 89,
   "metadata": {},
   "outputs": [
    {
     "data": {
      "image/png": "[encoded data removed]",
      "text/plain": [
       "<Figure size 432x288 with 1 Axes>"
      ]
     },
     "metadata": {
      "needs_background": "light"
     },
     "output_type": "display_data"
    }
   ],
   "source": [
    "# Plot real time and weekly resampled time series together\n",
    "fig, ax = plt.subplots()\n",
    "ax.plot(American_yearly.loc[start:end, 'normalised review count'],\n",
    "marker = 'o', markersize = 8,linestyle='-', label='Yearly Normalised Count Resample')\n",
    "ax.set_ylabel('Number of reviews / Total reviews in Cal Year')\n",
    "ax.legend()\n",
    "plt.title('American Cuisine');"
   ]
  },
  {
   "cell_type": "code",
   "execution_count": 56,
   "metadata": {},
   "outputs": [
    {
     "data": {
      "text/html": [
       "<div>\n",
       "<style scoped>\n",
       "    .dataframe tbody tr th:only-of-type {\n",
       "        vertical-align: middle;\n",
       "    }\n",
       "\n",
       "    .dataframe tbody tr th {\n",
       "        vertical-align: top;\n",
       "    }\n",
       "\n",
       "    .dataframe thead th {\n",
       "        text-align: right;\n",
       "    }\n",
       "</style>\n",
       "<table border=\"1\" class=\"dataframe\">\n",
       "  <thead>\n",
       "    <tr style=\"text-align: right;\">\n",
       "      <th></th>\n",
       "      <th>normalised review count</th>\n",
       "    </tr>\n",
       "    <tr>\n",
       "      <th>date</th>\n",
       "      <th></th>\n",
       "    </tr>\n",
       "  </thead>\n",
       "  <tbody>\n",
       "    <tr>\n",
       "      <td>2004-12-31</td>\n",
       "      <td>0.250000</td>\n",
       "    </tr>\n",
       "    <tr>\n",
       "      <td>2005-12-31</td>\n",
       "      <td>0.130909</td>\n",
       "    </tr>\n",
       "    <tr>\n",
       "      <td>2006-12-31</td>\n",
       "      <td>0.144654</td>\n",
       "    </tr>\n",
       "    <tr>\n",
       "      <td>2007-12-31</td>\n",
       "      <td>0.150472</td>\n",
       "    </tr>\n",
       "    <tr>\n",
       "      <td>2008-12-31</td>\n",
       "      <td>0.159311</td>\n",
       "    </tr>\n",
       "    <tr>\n",
       "      <td>2009-12-31</td>\n",
       "      <td>0.158711</td>\n",
       "    </tr>\n",
       "    <tr>\n",
       "      <td>2010-12-31</td>\n",
       "      <td>0.154233</td>\n",
       "    </tr>\n",
       "    <tr>\n",
       "      <td>2011-12-31</td>\n",
       "      <td>0.149620</td>\n",
       "    </tr>\n",
       "    <tr>\n",
       "      <td>2012-12-31</td>\n",
       "      <td>0.143598</td>\n",
       "    </tr>\n",
       "    <tr>\n",
       "      <td>2013-12-31</td>\n",
       "      <td>0.145652</td>\n",
       "    </tr>\n",
       "  </tbody>\n",
       "</table>\n",
       "</div>"
      ],
      "text/plain": [
       "            normalised review count\n",
       "date                               \n",
       "2004-12-31                 0.250000\n",
       "2005-12-31                 0.130909\n",
       "2006-12-31                 0.144654\n",
       "2007-12-31                 0.150472\n",
       "2008-12-31                 0.159311\n",
       "2009-12-31                 0.158711\n",
       "2010-12-31                 0.154233\n",
       "2011-12-31                 0.149620\n",
       "2012-12-31                 0.143598\n",
       "2013-12-31                 0.145652"
      ]
     },
     "execution_count": 56,
     "metadata": {},
     "output_type": "execute_result"
    }
   ],
   "source": [
    "# Seperate out Mexican cuisine\n",
    "Mexican = reviews_only[reviews_only.cuisine == 'Mexican']\n",
    "# Specify the data columns we want to include \n",
    "data_columns = ['normalised review count']\n",
    "# Resample to weekly frequency, aggregating with mean\n",
    "Mexican_yearly = Mexican[data_columns].resample('A').sum()\n",
    "Mexican_yearly.head(10)"
   ]
  },
  {
   "cell_type": "code",
   "execution_count": 90,
   "metadata": {},
   "outputs": [
    {
     "data": {
      "image/png": "[encoded data removed]",
      "text/plain": [
       "<Figure size 432x288 with 1 Axes>"
      ]
     },
     "metadata": {
      "needs_background": "light"
     },
     "output_type": "display_data"
    }
   ],
   "source": [
    "# Plot real time and weekly resampled time series together\n",
    "fig, ax = plt.subplots()\n",
    "ax.plot(Mexican_yearly.loc[start:end, 'normalised review count'],\n",
    "marker = 'o', markersize = 8,linestyle='-', label='Yearly Normalised Count Resample')\n",
    "ax.set_ylabel('Number of reviews / Total reviews in Cal Year')\n",
    "ax.legend()\n",
    "plt.title('Mexican Cuisine');"
   ]
  },
  {
   "cell_type": "code",
   "execution_count": 63,
   "metadata": {},
   "outputs": [
    {
     "data": {
      "text/html": [
       "<div>\n",
       "<style scoped>\n",
       "    .dataframe tbody tr th:only-of-type {\n",
       "        vertical-align: middle;\n",
       "    }\n",
       "\n",
       "    .dataframe tbody tr th {\n",
       "        vertical-align: top;\n",
       "    }\n",
       "\n",
       "    .dataframe thead th {\n",
       "        text-align: right;\n",
       "    }\n",
       "</style>\n",
       "<table border=\"1\" class=\"dataframe\">\n",
       "  <thead>\n",
       "    <tr style=\"text-align: right;\">\n",
       "      <th></th>\n",
       "      <th>normalised review count</th>\n",
       "    </tr>\n",
       "    <tr>\n",
       "      <th>date</th>\n",
       "      <th></th>\n",
       "    </tr>\n",
       "  </thead>\n",
       "  <tbody>\n",
       "    <tr>\n",
       "      <td>2005-12-31</td>\n",
       "      <td>0.138182</td>\n",
       "    </tr>\n",
       "    <tr>\n",
       "      <td>2006-12-31</td>\n",
       "      <td>0.122292</td>\n",
       "    </tr>\n",
       "    <tr>\n",
       "      <td>2007-12-31</td>\n",
       "      <td>0.126761</td>\n",
       "    </tr>\n",
       "    <tr>\n",
       "      <td>2008-12-31</td>\n",
       "      <td>0.132084</td>\n",
       "    </tr>\n",
       "    <tr>\n",
       "      <td>2009-12-31</td>\n",
       "      <td>0.148639</td>\n",
       "    </tr>\n",
       "    <tr>\n",
       "      <td>2010-12-31</td>\n",
       "      <td>0.139003</td>\n",
       "    </tr>\n",
       "    <tr>\n",
       "      <td>2011-12-31</td>\n",
       "      <td>0.135586</td>\n",
       "    </tr>\n",
       "    <tr>\n",
       "      <td>2012-12-31</td>\n",
       "      <td>0.137112</td>\n",
       "    </tr>\n",
       "    <tr>\n",
       "      <td>2013-12-31</td>\n",
       "      <td>0.137826</td>\n",
       "    </tr>\n",
       "    <tr>\n",
       "      <td>2014-12-31</td>\n",
       "      <td>0.127984</td>\n",
       "    </tr>\n",
       "  </tbody>\n",
       "</table>\n",
       "</div>"
      ],
      "text/plain": [
       "            normalised review count\n",
       "date                               \n",
       "2005-12-31                 0.138182\n",
       "2006-12-31                 0.122292\n",
       "2007-12-31                 0.126761\n",
       "2008-12-31                 0.132084\n",
       "2009-12-31                 0.148639\n",
       "2010-12-31                 0.139003\n",
       "2011-12-31                 0.135586\n",
       "2012-12-31                 0.137112\n",
       "2013-12-31                 0.137826\n",
       "2014-12-31                 0.127984"
      ]
     },
     "execution_count": 63,
     "metadata": {},
     "output_type": "execute_result"
    }
   ],
   "source": [
    "# Seperate out Italian cuisine\n",
    "Italian = reviews_only[reviews_only.cuisine == 'Italian']\n",
    "# Specify the data columns we want to include \n",
    "data_columns = ['normalised review count']\n",
    "# Resample to weekly frequency, aggregating with mean\n",
    "Italian_yearly = Italian[data_columns].resample('A').sum()\n",
    "Italian_yearly.head(10)"
   ]
  },
  {
   "cell_type": "code",
   "execution_count": 91,
   "metadata": {},
   "outputs": [
    {
     "data": {
      "image/png": "[encoded data removed]",
      "text/plain": [
       "<Figure size 432x288 with 1 Axes>"
      ]
     },
     "metadata": {
      "needs_background": "light"
     },
     "output_type": "display_data"
    }
   ],
   "source": [
    "# Plot real time and weekly resampled time series together\n",
    "fig, ax = plt.subplots()\n",
    "ax.plot(Italian_yearly.loc[start:end, 'normalised review count'],\n",
    "marker = 'o', markersize = 8,linestyle='-', label='Yearly Normalised Count Resample')\n",
    "ax.set_ylabel('Number of reviews / Total reviews in Cal Year')\n",
    "ax.legend()\n",
    "plt.title('Italian Cuisine');"
   ]
  },
  {
   "cell_type": "code",
   "execution_count": 65,
   "metadata": {},
   "outputs": [
    {
     "data": {
      "text/html": [
       "<div>\n",
       "<style scoped>\n",
       "    .dataframe tbody tr th:only-of-type {\n",
       "        vertical-align: middle;\n",
       "    }\n",
       "\n",
       "    .dataframe tbody tr th {\n",
       "        vertical-align: top;\n",
       "    }\n",
       "\n",
       "    .dataframe thead th {\n",
       "        text-align: right;\n",
       "    }\n",
       "</style>\n",
       "<table border=\"1\" class=\"dataframe\">\n",
       "  <thead>\n",
       "    <tr style=\"text-align: right;\">\n",
       "      <th></th>\n",
       "      <th>normalised review count</th>\n",
       "    </tr>\n",
       "    <tr>\n",
       "      <th>date</th>\n",
       "      <th></th>\n",
       "    </tr>\n",
       "  </thead>\n",
       "  <tbody>\n",
       "    <tr>\n",
       "      <td>2005-12-31</td>\n",
       "      <td>0.003636</td>\n",
       "    </tr>\n",
       "    <tr>\n",
       "      <td>2006-12-31</td>\n",
       "      <td>0.007687</td>\n",
       "    </tr>\n",
       "    <tr>\n",
       "      <td>2007-12-31</td>\n",
       "      <td>0.004992</td>\n",
       "    </tr>\n",
       "    <tr>\n",
       "      <td>2008-12-31</td>\n",
       "      <td>0.004636</td>\n",
       "    </tr>\n",
       "    <tr>\n",
       "      <td>2009-12-31</td>\n",
       "      <td>0.004268</td>\n",
       "    </tr>\n",
       "    <tr>\n",
       "      <td>2010-12-31</td>\n",
       "      <td>0.004405</td>\n",
       "    </tr>\n",
       "    <tr>\n",
       "      <td>2011-12-31</td>\n",
       "      <td>0.006041</td>\n",
       "    </tr>\n",
       "    <tr>\n",
       "      <td>2012-12-31</td>\n",
       "      <td>0.006181</td>\n",
       "    </tr>\n",
       "    <tr>\n",
       "      <td>2013-12-31</td>\n",
       "      <td>0.005262</td>\n",
       "    </tr>\n",
       "    <tr>\n",
       "      <td>2014-12-31</td>\n",
       "      <td>0.005783</td>\n",
       "    </tr>\n",
       "  </tbody>\n",
       "</table>\n",
       "</div>"
      ],
      "text/plain": [
       "            normalised review count\n",
       "date                               \n",
       "2005-12-31                 0.003636\n",
       "2006-12-31                 0.007687\n",
       "2007-12-31                 0.004992\n",
       "2008-12-31                 0.004636\n",
       "2009-12-31                 0.004268\n",
       "2010-12-31                 0.004405\n",
       "2011-12-31                 0.006041\n",
       "2012-12-31                 0.006181\n",
       "2013-12-31                 0.005262\n",
       "2014-12-31                 0.005783"
      ]
     },
     "execution_count": 65,
     "metadata": {},
     "output_type": "execute_result"
    }
   ],
   "source": [
    "# Seperate out 'Japanese and Chinese' cuisine\n",
    "Japanese_and_Chinese = reviews_only[reviews_only.cuisine == 'Japanese and Chinese']\n",
    "# Specify the data columns we want to include \n",
    "data_columns = ['normalised review count']\n",
    "# Resample to weekly frequency, aggregating with mean\n",
    "Japanese_and_Chinese_yearly = Japanese_and_Chinese[data_columns].resample('A').sum()\n",
    "Japanese_and_Chinese_yearly.head(10)"
   ]
  },
  {
   "cell_type": "code",
   "execution_count": 92,
   "metadata": {},
   "outputs": [
    {
     "data": {
      "image/png": "[encoded data removed]",
      "text/plain": [
       "<Figure size 432x288 with 1 Axes>"
      ]
     },
     "metadata": {
      "needs_background": "light"
     },
     "output_type": "display_data"
    }
   ],
   "source": [
    "# Plot real time and weekly resampled time series together\n",
    "fig, ax = plt.subplots()\n",
    "ax.plot(Japanese_and_Chinese_yearly.loc[start:end, 'normalised review count'],\n",
    "marker = 'o', markersize = 8,linestyle='-', label='Yearly Normalised Count Resample')\n",
    "ax.set_ylabel('Number of reviews / Total reviews in Cal Year')\n",
    "ax.legend()\n",
    "plt.title('Japanese_and_Chinese Cuisine');"
   ]
  },
  {
   "cell_type": "code",
   "execution_count": 67,
   "metadata": {},
   "outputs": [
    {
     "data": {
      "text/html": [
       "<div>\n",
       "<style scoped>\n",
       "    .dataframe tbody tr th:only-of-type {\n",
       "        vertical-align: middle;\n",
       "    }\n",
       "\n",
       "    .dataframe tbody tr th {\n",
       "        vertical-align: top;\n",
       "    }\n",
       "\n",
       "    .dataframe thead th {\n",
       "        text-align: right;\n",
       "    }\n",
       "</style>\n",
       "<table border=\"1\" class=\"dataframe\">\n",
       "  <thead>\n",
       "    <tr style=\"text-align: right;\">\n",
       "      <th></th>\n",
       "      <th>normalised review count</th>\n",
       "    </tr>\n",
       "    <tr>\n",
       "      <th>date</th>\n",
       "      <th></th>\n",
       "    </tr>\n",
       "  </thead>\n",
       "  <tbody>\n",
       "    <tr>\n",
       "      <td>2004-12-31</td>\n",
       "      <td>0.500000</td>\n",
       "    </tr>\n",
       "    <tr>\n",
       "      <td>2005-12-31</td>\n",
       "      <td>0.050909</td>\n",
       "    </tr>\n",
       "    <tr>\n",
       "      <td>2006-12-31</td>\n",
       "      <td>0.076171</td>\n",
       "    </tr>\n",
       "    <tr>\n",
       "      <td>2007-12-31</td>\n",
       "      <td>0.061687</td>\n",
       "    </tr>\n",
       "    <tr>\n",
       "      <td>2008-12-31</td>\n",
       "      <td>0.061831</td>\n",
       "    </tr>\n",
       "    <tr>\n",
       "      <td>2009-12-31</td>\n",
       "      <td>0.059643</td>\n",
       "    </tr>\n",
       "    <tr>\n",
       "      <td>2010-12-31</td>\n",
       "      <td>0.061698</td>\n",
       "    </tr>\n",
       "    <tr>\n",
       "      <td>2011-12-31</td>\n",
       "      <td>0.059199</td>\n",
       "    </tr>\n",
       "    <tr>\n",
       "      <td>2012-12-31</td>\n",
       "      <td>0.058176</td>\n",
       "    </tr>\n",
       "    <tr>\n",
       "      <td>2013-12-31</td>\n",
       "      <td>0.057852</td>\n",
       "    </tr>\n",
       "  </tbody>\n",
       "</table>\n",
       "</div>"
      ],
      "text/plain": [
       "            normalised review count\n",
       "date                               \n",
       "2004-12-31                 0.500000\n",
       "2005-12-31                 0.050909\n",
       "2006-12-31                 0.076171\n",
       "2007-12-31                 0.061687\n",
       "2008-12-31                 0.061831\n",
       "2009-12-31                 0.059643\n",
       "2010-12-31                 0.061698\n",
       "2011-12-31                 0.059199\n",
       "2012-12-31                 0.058176\n",
       "2013-12-31                 0.057852"
      ]
     },
     "execution_count": 67,
     "metadata": {},
     "output_type": "execute_result"
    }
   ],
   "source": [
    "# Seperate out Chinese cuisine\n",
    "Chinese = reviews_only[reviews_only.cuisine == 'Chinese']\n",
    "# Specify the data columns we want to include \n",
    "data_columns = ['normalised review count']\n",
    "# Resample to weekly frequency, aggregating with mean\n",
    "Chinese_yearly = Chinese[data_columns].resample('A').sum()\n",
    "Chinese_yearly.head(10)"
   ]
  },
  {
   "cell_type": "code",
   "execution_count": 93,
   "metadata": {},
   "outputs": [
    {
     "data": {
      "image/png": "[encoded data removed]",
      "text/plain": [
       "<Figure size 432x288 with 1 Axes>"
      ]
     },
     "metadata": {
      "needs_background": "light"
     },
     "output_type": "display_data"
    }
   ],
   "source": [
    "# Plot real time and weekly resampled time series together\n",
    "fig, ax = plt.subplots()\n",
    "ax.plot(Chinese_yearly.loc[start:end, 'normalised review count'],\n",
    "marker = 'o', markersize = 8,linestyle='-', label='Yearly Normalised Count Resample')\n",
    "ax.set_ylabel('Number of reviews / Total reviews in Cal Year')\n",
    "ax.legend()\n",
    "plt.title('Chinese Cuisine');"
   ]
  },
  {
   "cell_type": "code",
   "execution_count": 69,
   "metadata": {},
   "outputs": [
    {
     "data": {
      "text/html": [
       "<div>\n",
       "<style scoped>\n",
       "    .dataframe tbody tr th:only-of-type {\n",
       "        vertical-align: middle;\n",
       "    }\n",
       "\n",
       "    .dataframe tbody tr th {\n",
       "        vertical-align: top;\n",
       "    }\n",
       "\n",
       "    .dataframe thead th {\n",
       "        text-align: right;\n",
       "    }\n",
       "</style>\n",
       "<table border=\"1\" class=\"dataframe\">\n",
       "  <thead>\n",
       "    <tr style=\"text-align: right;\">\n",
       "      <th></th>\n",
       "      <th>normalised review count</th>\n",
       "    </tr>\n",
       "    <tr>\n",
       "      <th>date</th>\n",
       "      <th></th>\n",
       "    </tr>\n",
       "  </thead>\n",
       "  <tbody>\n",
       "    <tr>\n",
       "      <td>2005-12-31</td>\n",
       "      <td>0.050909</td>\n",
       "    </tr>\n",
       "    <tr>\n",
       "      <td>2006-12-31</td>\n",
       "      <td>0.036338</td>\n",
       "    </tr>\n",
       "    <tr>\n",
       "      <td>2007-12-31</td>\n",
       "      <td>0.038866</td>\n",
       "    </tr>\n",
       "    <tr>\n",
       "      <td>2008-12-31</td>\n",
       "      <td>0.046161</td>\n",
       "    </tr>\n",
       "    <tr>\n",
       "      <td>2009-12-31</td>\n",
       "      <td>0.042532</td>\n",
       "    </tr>\n",
       "    <tr>\n",
       "      <td>2010-12-31</td>\n",
       "      <td>0.043069</td>\n",
       "    </tr>\n",
       "    <tr>\n",
       "      <td>2011-12-31</td>\n",
       "      <td>0.042424</td>\n",
       "    </tr>\n",
       "    <tr>\n",
       "      <td>2012-12-31</td>\n",
       "      <td>0.038524</td>\n",
       "    </tr>\n",
       "    <tr>\n",
       "      <td>2013-12-31</td>\n",
       "      <td>0.036585</td>\n",
       "    </tr>\n",
       "    <tr>\n",
       "      <td>2014-12-31</td>\n",
       "      <td>0.035573</td>\n",
       "    </tr>\n",
       "  </tbody>\n",
       "</table>\n",
       "</div>"
      ],
      "text/plain": [
       "            normalised review count\n",
       "date                               \n",
       "2005-12-31                 0.050909\n",
       "2006-12-31                 0.036338\n",
       "2007-12-31                 0.038866\n",
       "2008-12-31                 0.046161\n",
       "2009-12-31                 0.042532\n",
       "2010-12-31                 0.043069\n",
       "2011-12-31                 0.042424\n",
       "2012-12-31                 0.038524\n",
       "2013-12-31                 0.036585\n",
       "2014-12-31                 0.035573"
      ]
     },
     "execution_count": 69,
     "metadata": {},
     "output_type": "execute_result"
    }
   ],
   "source": [
    "# Seperate out Thai cuisine\n",
    "Thai = reviews_only[reviews_only.cuisine == 'Thai']\n",
    "# Specify the data columns we want to include \n",
    "data_columns = ['normalised review count']\n",
    "# Resample to weekly frequency, aggregating with mean\n",
    "Thai_yearly = Thai[data_columns].resample('A').sum()\n",
    "Thai_yearly.head(10)"
   ]
  },
  {
   "cell_type": "code",
   "execution_count": 94,
   "metadata": {},
   "outputs": [
    {
     "data": {
      "image/png": "[encoded data removed]",
      "text/plain": [
       "<Figure size 432x288 with 1 Axes>"
      ]
     },
     "metadata": {
      "needs_background": "light"
     },
     "output_type": "display_data"
    }
   ],
   "source": [
    "# Plot real time and weekly resampled time series together\n",
    "fig, ax = plt.subplots()\n",
    "ax.plot(Thai_yearly.loc[start:end, 'normalised review count'],\n",
    "marker = 'o', markersize = 8,linestyle='-', label='Yearly Normalised Count Resample')\n",
    "ax.set_ylabel('Number of reviews / Total reviews in Cal Year')\n",
    "ax.legend()\n",
    "plt.title('Thai Cuisine');"
   ]
  },
  {
   "cell_type": "code",
   "execution_count": 71,
   "metadata": {},
   "outputs": [
    {
     "data": {
      "text/html": [
       "<div>\n",
       "<style scoped>\n",
       "    .dataframe tbody tr th:only-of-type {\n",
       "        vertical-align: middle;\n",
       "    }\n",
       "\n",
       "    .dataframe tbody tr th {\n",
       "        vertical-align: top;\n",
       "    }\n",
       "\n",
       "    .dataframe thead th {\n",
       "        text-align: right;\n",
       "    }\n",
       "</style>\n",
       "<table border=\"1\" class=\"dataframe\">\n",
       "  <thead>\n",
       "    <tr style=\"text-align: right;\">\n",
       "      <th></th>\n",
       "      <th>normalised review count</th>\n",
       "    </tr>\n",
       "    <tr>\n",
       "      <th>date</th>\n",
       "      <th></th>\n",
       "    </tr>\n",
       "  </thead>\n",
       "  <tbody>\n",
       "    <tr>\n",
       "      <td>2006-12-31</td>\n",
       "      <td>0.023760</td>\n",
       "    </tr>\n",
       "    <tr>\n",
       "      <td>2007-12-31</td>\n",
       "      <td>0.018720</td>\n",
       "    </tr>\n",
       "    <tr>\n",
       "      <td>2008-12-31</td>\n",
       "      <td>0.021677</td>\n",
       "    </tr>\n",
       "    <tr>\n",
       "      <td>2009-12-31</td>\n",
       "      <td>0.024112</td>\n",
       "    </tr>\n",
       "    <tr>\n",
       "      <td>2010-12-31</td>\n",
       "      <td>0.024377</td>\n",
       "    </tr>\n",
       "    <tr>\n",
       "      <td>2011-12-31</td>\n",
       "      <td>0.022589</td>\n",
       "    </tr>\n",
       "    <tr>\n",
       "      <td>2012-12-31</td>\n",
       "      <td>0.021697</td>\n",
       "    </tr>\n",
       "    <tr>\n",
       "      <td>2013-12-31</td>\n",
       "      <td>0.021091</td>\n",
       "    </tr>\n",
       "    <tr>\n",
       "      <td>2014-12-31</td>\n",
       "      <td>0.017663</td>\n",
       "    </tr>\n",
       "    <tr>\n",
       "      <td>2015-12-31</td>\n",
       "      <td>0.016569</td>\n",
       "    </tr>\n",
       "  </tbody>\n",
       "</table>\n",
       "</div>"
      ],
      "text/plain": [
       "            normalised review count\n",
       "date                               \n",
       "2006-12-31                 0.023760\n",
       "2007-12-31                 0.018720\n",
       "2008-12-31                 0.021677\n",
       "2009-12-31                 0.024112\n",
       "2010-12-31                 0.024377\n",
       "2011-12-31                 0.022589\n",
       "2012-12-31                 0.021697\n",
       "2013-12-31                 0.021091\n",
       "2014-12-31                 0.017663\n",
       "2015-12-31                 0.016569"
      ]
     },
     "execution_count": 71,
     "metadata": {},
     "output_type": "execute_result"
    }
   ],
   "source": [
    "# Seperate out French cuisine\n",
    "French = reviews_only[reviews_only.cuisine == 'French']\n",
    "# Specify the data columns we want to include \n",
    "data_columns = ['normalised review count']\n",
    "# Resample to weekly frequency, aggregating with mean\n",
    "French_yearly = French[data_columns].resample('A').sum()\n",
    "French_yearly.head(10)"
   ]
  },
  {
   "cell_type": "code",
   "execution_count": 95,
   "metadata": {},
   "outputs": [
    {
     "data": {
      "image/png": "[encoded data removed]",
      "text/plain": [
       "<Figure size 432x288 with 1 Axes>"
      ]
     },
     "metadata": {
      "needs_background": "light"
     },
     "output_type": "display_data"
    }
   ],
   "source": [
    "# Plot real time and weekly resampled time series together\n",
    "fig, ax = plt.subplots()\n",
    "ax.plot(French_yearly.loc[start:end, 'normalised review count'],\n",
    "marker = 'o', markersize = 8,linestyle='-', label='Yearly Normalised Count Resample')\n",
    "ax.set_ylabel('Number of reviews / Total reviews in Cal Year')\n",
    "ax.legend()\n",
    "plt.title('French Cuisine');"
   ]
  },
  {
   "cell_type": "code",
   "execution_count": 73,
   "metadata": {},
   "outputs": [
    {
     "data": {
      "text/html": [
       "<div>\n",
       "<style scoped>\n",
       "    .dataframe tbody tr th:only-of-type {\n",
       "        vertical-align: middle;\n",
       "    }\n",
       "\n",
       "    .dataframe tbody tr th {\n",
       "        vertical-align: top;\n",
       "    }\n",
       "\n",
       "    .dataframe thead th {\n",
       "        text-align: right;\n",
       "    }\n",
       "</style>\n",
       "<table border=\"1\" class=\"dataframe\">\n",
       "  <thead>\n",
       "    <tr style=\"text-align: right;\">\n",
       "      <th></th>\n",
       "      <th>normalised review count</th>\n",
       "    </tr>\n",
       "    <tr>\n",
       "      <th>date</th>\n",
       "      <th></th>\n",
       "    </tr>\n",
       "  </thead>\n",
       "  <tbody>\n",
       "    <tr>\n",
       "      <td>2005-12-31</td>\n",
       "      <td>0.007273</td>\n",
       "    </tr>\n",
       "    <tr>\n",
       "      <td>2006-12-31</td>\n",
       "      <td>0.015374</td>\n",
       "    </tr>\n",
       "    <tr>\n",
       "      <td>2007-12-31</td>\n",
       "      <td>0.014263</td>\n",
       "    </tr>\n",
       "    <tr>\n",
       "      <td>2008-12-31</td>\n",
       "      <td>0.020567</td>\n",
       "    </tr>\n",
       "    <tr>\n",
       "      <td>2009-12-31</td>\n",
       "      <td>0.021491</td>\n",
       "    </tr>\n",
       "    <tr>\n",
       "      <td>2010-12-31</td>\n",
       "      <td>0.022447</td>\n",
       "    </tr>\n",
       "    <tr>\n",
       "      <td>2011-12-31</td>\n",
       "      <td>0.022803</td>\n",
       "    </tr>\n",
       "    <tr>\n",
       "      <td>2012-12-31</td>\n",
       "      <td>0.023257</td>\n",
       "    </tr>\n",
       "    <tr>\n",
       "      <td>2013-12-31</td>\n",
       "      <td>0.023404</td>\n",
       "    </tr>\n",
       "    <tr>\n",
       "      <td>2014-12-31</td>\n",
       "      <td>0.022675</td>\n",
       "    </tr>\n",
       "  </tbody>\n",
       "</table>\n",
       "</div>"
      ],
      "text/plain": [
       "            normalised review count\n",
       "date                               \n",
       "2005-12-31                 0.007273\n",
       "2006-12-31                 0.015374\n",
       "2007-12-31                 0.014263\n",
       "2008-12-31                 0.020567\n",
       "2009-12-31                 0.021491\n",
       "2010-12-31                 0.022447\n",
       "2011-12-31                 0.022803\n",
       "2012-12-31                 0.023257\n",
       "2013-12-31                 0.023404\n",
       "2014-12-31                 0.022675"
      ]
     },
     "execution_count": 73,
     "metadata": {},
     "output_type": "execute_result"
    }
   ],
   "source": [
    "# Seperate out Vietnamese cuisine\n",
    "Vietnamese = reviews_only[reviews_only.cuisine == 'Vietnamese']\n",
    "# Specify the data columns we want to include \n",
    "data_columns = ['normalised review count']\n",
    "# Resample to weekly frequency, aggregating with mean\n",
    "Vietnamese_yearly = Vietnamese[data_columns].resample('A').sum()\n",
    "Vietnamese_yearly.head(10)"
   ]
  },
  {
   "cell_type": "code",
   "execution_count": 96,
   "metadata": {},
   "outputs": [
    {
     "data": {
      "image/png": "[encoded data removed]",
      "text/plain": [
       "<Figure size 432x288 with 1 Axes>"
      ]
     },
     "metadata": {
      "needs_background": "light"
     },
     "output_type": "display_data"
    }
   ],
   "source": [
    "# Plot real time and weekly resampled time series together\n",
    "fig, ax = plt.subplots()\n",
    "ax.plot(Vietnamese_yearly.loc[start:end, 'normalised review count'],\n",
    "marker = 'o', markersize = 8,linestyle='-', label='Yearly Normalised Count Resample')\n",
    "ax.set_ylabel('Number of reviews / Total reviews in Cal Year')\n",
    "ax.legend()\n",
    "plt.title('Vietnamese Cuisine');"
   ]
  },
  {
   "cell_type": "code",
   "execution_count": 75,
   "metadata": {},
   "outputs": [
    {
     "data": {
      "text/html": [
       "<div>\n",
       "<style scoped>\n",
       "    .dataframe tbody tr th:only-of-type {\n",
       "        vertical-align: middle;\n",
       "    }\n",
       "\n",
       "    .dataframe tbody tr th {\n",
       "        vertical-align: top;\n",
       "    }\n",
       "\n",
       "    .dataframe thead th {\n",
       "        text-align: right;\n",
       "    }\n",
       "</style>\n",
       "<table border=\"1\" class=\"dataframe\">\n",
       "  <thead>\n",
       "    <tr style=\"text-align: right;\">\n",
       "      <th></th>\n",
       "      <th>normalised review count</th>\n",
       "    </tr>\n",
       "    <tr>\n",
       "      <th>date</th>\n",
       "      <th></th>\n",
       "    </tr>\n",
       "  </thead>\n",
       "  <tbody>\n",
       "    <tr>\n",
       "      <td>2005-12-31</td>\n",
       "      <td>0.043636</td>\n",
       "    </tr>\n",
       "    <tr>\n",
       "      <td>2006-12-31</td>\n",
       "      <td>0.046820</td>\n",
       "    </tr>\n",
       "    <tr>\n",
       "      <td>2007-12-31</td>\n",
       "      <td>0.053307</td>\n",
       "    </tr>\n",
       "    <tr>\n",
       "      <td>2008-12-31</td>\n",
       "      <td>0.050274</td>\n",
       "    </tr>\n",
       "    <tr>\n",
       "      <td>2009-12-31</td>\n",
       "      <td>0.045453</td>\n",
       "    </tr>\n",
       "    <tr>\n",
       "      <td>2010-12-31</td>\n",
       "      <td>0.039251</td>\n",
       "    </tr>\n",
       "    <tr>\n",
       "      <td>2011-12-31</td>\n",
       "      <td>0.036115</td>\n",
       "    </tr>\n",
       "    <tr>\n",
       "      <td>2012-12-31</td>\n",
       "      <td>0.033122</td>\n",
       "    </tr>\n",
       "    <tr>\n",
       "      <td>2013-12-31</td>\n",
       "      <td>0.032554</td>\n",
       "    </tr>\n",
       "    <tr>\n",
       "      <td>2014-12-31</td>\n",
       "      <td>0.030466</td>\n",
       "    </tr>\n",
       "  </tbody>\n",
       "</table>\n",
       "</div>"
      ],
      "text/plain": [
       "            normalised review count\n",
       "date                               \n",
       "2005-12-31                 0.043636\n",
       "2006-12-31                 0.046820\n",
       "2007-12-31                 0.053307\n",
       "2008-12-31                 0.050274\n",
       "2009-12-31                 0.045453\n",
       "2010-12-31                 0.039251\n",
       "2011-12-31                 0.036115\n",
       "2012-12-31                 0.033122\n",
       "2013-12-31                 0.032554\n",
       "2014-12-31                 0.030466"
      ]
     },
     "execution_count": 75,
     "metadata": {},
     "output_type": "execute_result"
    }
   ],
   "source": [
    "# Seperate out Greek cuisine\n",
    "Greek = reviews_only[reviews_only.cuisine == 'Greek']\n",
    "# Specify the data columns we want to include \n",
    "data_columns = ['normalised review count']\n",
    "# Resample to weekly frequency, aggregating with mean\n",
    "Greek_yearly = Greek[data_columns].resample('A').sum()\n",
    "Greek_yearly.head(10)"
   ]
  },
  {
   "cell_type": "code",
   "execution_count": 97,
   "metadata": {},
   "outputs": [
    {
     "data": {
      "image/png": "[encoded data removed]",
      "text/plain": [
       "<Figure size 432x288 with 1 Axes>"
      ]
     },
     "metadata": {
      "needs_background": "light"
     },
     "output_type": "display_data"
    }
   ],
   "source": [
    "# Plot real time and weekly resampled time series together\n",
    "fig, ax = plt.subplots()\n",
    "ax.plot(Greek_yearly.loc[start:end, 'normalised review count'],\n",
    "marker = 'o', markersize = 8,linestyle='-', label='Yearly Normalised Count Resample')\n",
    "ax.set_ylabel('Number of reviews / Total reviews in Cal Year')\n",
    "ax.legend()\n",
    "plt.title('Greek Cuisine');"
   ]
  },
  {
   "cell_type": "code",
   "execution_count": 77,
   "metadata": {},
   "outputs": [
    {
     "data": {
      "text/html": [
       "<div>\n",
       "<style scoped>\n",
       "    .dataframe tbody tr th:only-of-type {\n",
       "        vertical-align: middle;\n",
       "    }\n",
       "\n",
       "    .dataframe tbody tr th {\n",
       "        vertical-align: top;\n",
       "    }\n",
       "\n",
       "    .dataframe thead th {\n",
       "        text-align: right;\n",
       "    }\n",
       "</style>\n",
       "<table border=\"1\" class=\"dataframe\">\n",
       "  <thead>\n",
       "    <tr style=\"text-align: right;\">\n",
       "      <th></th>\n",
       "      <th>normalised review count</th>\n",
       "    </tr>\n",
       "    <tr>\n",
       "      <th>date</th>\n",
       "      <th></th>\n",
       "    </tr>\n",
       "  </thead>\n",
       "  <tbody>\n",
       "    <tr>\n",
       "      <td>2005-12-31</td>\n",
       "      <td>0.010909</td>\n",
       "    </tr>\n",
       "    <tr>\n",
       "      <td>2006-12-31</td>\n",
       "      <td>0.016771</td>\n",
       "    </tr>\n",
       "    <tr>\n",
       "      <td>2007-12-31</td>\n",
       "      <td>0.020859</td>\n",
       "    </tr>\n",
       "    <tr>\n",
       "      <td>2008-12-31</td>\n",
       "      <td>0.023831</td>\n",
       "    </tr>\n",
       "    <tr>\n",
       "      <td>2009-12-31</td>\n",
       "      <td>0.023737</td>\n",
       "    </tr>\n",
       "    <tr>\n",
       "      <td>2010-12-31</td>\n",
       "      <td>0.021503</td>\n",
       "    </tr>\n",
       "    <tr>\n",
       "      <td>2011-12-31</td>\n",
       "      <td>0.018726</td>\n",
       "    </tr>\n",
       "    <tr>\n",
       "      <td>2012-12-31</td>\n",
       "      <td>0.021370</td>\n",
       "    </tr>\n",
       "    <tr>\n",
       "      <td>2013-12-31</td>\n",
       "      <td>0.021326</td>\n",
       "    </tr>\n",
       "    <tr>\n",
       "      <td>2014-12-31</td>\n",
       "      <td>0.020130</td>\n",
       "    </tr>\n",
       "  </tbody>\n",
       "</table>\n",
       "</div>"
      ],
      "text/plain": [
       "            normalised review count\n",
       "date                               \n",
       "2005-12-31                 0.010909\n",
       "2006-12-31                 0.016771\n",
       "2007-12-31                 0.020859\n",
       "2008-12-31                 0.023831\n",
       "2009-12-31                 0.023737\n",
       "2010-12-31                 0.021503\n",
       "2011-12-31                 0.018726\n",
       "2012-12-31                 0.021370\n",
       "2013-12-31                 0.021326\n",
       "2014-12-31                 0.020130"
      ]
     },
     "execution_count": 77,
     "metadata": {},
     "output_type": "execute_result"
    }
   ],
   "source": [
    "# Seperate out Indian cuisine\n",
    "Indian = reviews_only[reviews_only.cuisine == 'Indian']\n",
    "# Specify the data columns we want to include \n",
    "data_columns = ['normalised review count']\n",
    "# Resample to weekly frequency, aggregating with mean\n",
    "Indian_yearly = Indian[data_columns].resample('A').sum()\n",
    "Indian_yearly.head(10)"
   ]
  },
  {
   "cell_type": "code",
   "execution_count": 98,
   "metadata": {},
   "outputs": [
    {
     "data": {
      "image/png": "[encoded data removed]",
      "text/plain": [
       "<Figure size 432x288 with 1 Axes>"
      ]
     },
     "metadata": {
      "needs_background": "light"
     },
     "output_type": "display_data"
    }
   ],
   "source": [
    "# Plot real time and weekly resampled time series together\n",
    "fig, ax = plt.subplots()\n",
    "ax.plot(Indian_yearly.loc[start:end, 'normalised review count'],\n",
    "marker = 'o', markersize = 8,linestyle='-', label='Yearly Normalised Count Resample')\n",
    "ax.set_ylabel('Number of reviews / Total reviews in Cal Year')\n",
    "ax.legend()\n",
    "plt.title('Indian Cuisine');"
   ]
  },
  {
   "cell_type": "code",
   "execution_count": 79,
   "metadata": {},
   "outputs": [
    {
     "data": {
      "text/html": [
       "<div>\n",
       "<style scoped>\n",
       "    .dataframe tbody tr th:only-of-type {\n",
       "        vertical-align: middle;\n",
       "    }\n",
       "\n",
       "    .dataframe tbody tr th {\n",
       "        vertical-align: top;\n",
       "    }\n",
       "\n",
       "    .dataframe thead th {\n",
       "        text-align: right;\n",
       "    }\n",
       "</style>\n",
       "<table border=\"1\" class=\"dataframe\">\n",
       "  <thead>\n",
       "    <tr style=\"text-align: right;\">\n",
       "      <th></th>\n",
       "      <th>normalised review count</th>\n",
       "    </tr>\n",
       "    <tr>\n",
       "      <th>date</th>\n",
       "      <th></th>\n",
       "    </tr>\n",
       "  </thead>\n",
       "  <tbody>\n",
       "    <tr>\n",
       "      <td>2005-12-31</td>\n",
       "      <td>0.003636</td>\n",
       "    </tr>\n",
       "    <tr>\n",
       "      <td>2006-12-31</td>\n",
       "      <td>0.008386</td>\n",
       "    </tr>\n",
       "    <tr>\n",
       "      <td>2007-12-31</td>\n",
       "      <td>0.015154</td>\n",
       "    </tr>\n",
       "    <tr>\n",
       "      <td>2008-12-31</td>\n",
       "      <td>0.018934</td>\n",
       "    </tr>\n",
       "    <tr>\n",
       "      <td>2009-12-31</td>\n",
       "      <td>0.016099</td>\n",
       "    </tr>\n",
       "    <tr>\n",
       "      <td>2010-12-31</td>\n",
       "      <td>0.013195</td>\n",
       "    </tr>\n",
       "    <tr>\n",
       "      <td>2011-12-31</td>\n",
       "      <td>0.013379</td>\n",
       "    </tr>\n",
       "    <tr>\n",
       "      <td>2012-12-31</td>\n",
       "      <td>0.011256</td>\n",
       "    </tr>\n",
       "    <tr>\n",
       "      <td>2013-12-31</td>\n",
       "      <td>0.012511</td>\n",
       "    </tr>\n",
       "    <tr>\n",
       "      <td>2014-12-31</td>\n",
       "      <td>0.012268</td>\n",
       "    </tr>\n",
       "  </tbody>\n",
       "</table>\n",
       "</div>"
      ],
      "text/plain": [
       "            normalised review count\n",
       "date                               \n",
       "2005-12-31                 0.003636\n",
       "2006-12-31                 0.008386\n",
       "2007-12-31                 0.015154\n",
       "2008-12-31                 0.018934\n",
       "2009-12-31                 0.016099\n",
       "2010-12-31                 0.013195\n",
       "2011-12-31                 0.013379\n",
       "2012-12-31                 0.011256\n",
       "2013-12-31                 0.012511\n",
       "2014-12-31                 0.012268"
      ]
     },
     "execution_count": 79,
     "metadata": {},
     "output_type": "execute_result"
    }
   ],
   "source": [
    "# Seperate out Korean cuisine\n",
    "Korean = reviews_only[reviews_only.cuisine == 'Korean']\n",
    "# Specify the data columns we want to include \n",
    "data_columns = ['normalised review count']\n",
    "# Resample to weekly frequency, aggregating with mean\n",
    "Korean_yearly = Korean[data_columns].resample('A').sum()\n",
    "Korean_yearly.head(10)"
   ]
  },
  {
   "cell_type": "code",
   "execution_count": 99,
   "metadata": {},
   "outputs": [
    {
     "data": {
      "image/png": "[encoded data removed]",
      "text/plain": [
       "<Figure size 432x288 with 1 Axes>"
      ]
     },
     "metadata": {
      "needs_background": "light"
     },
     "output_type": "display_data"
    }
   ],
   "source": [
    "# Plot real time and weekly resampled time series together\n",
    "fig, ax = plt.subplots()\n",
    "ax.plot(Korean_yearly.loc[start:end, 'normalised review count'],\n",
    "marker = 'o', markersize = 8,linestyle='-', label='Yearly Normalised Count Resample')\n",
    "ax.set_ylabel('Number of reviews / Total reviews in Cal Year')\n",
    "ax.legend()\n",
    "plt.title('Korean Cuisine');"
   ]
  },
  {
   "cell_type": "code",
   "execution_count": 81,
   "metadata": {},
   "outputs": [
    {
     "data": {
      "text/html": [
       "<div>\n",
       "<style scoped>\n",
       "    .dataframe tbody tr th:only-of-type {\n",
       "        vertical-align: middle;\n",
       "    }\n",
       "\n",
       "    .dataframe tbody tr th {\n",
       "        vertical-align: top;\n",
       "    }\n",
       "\n",
       "    .dataframe thead th {\n",
       "        text-align: right;\n",
       "    }\n",
       "</style>\n",
       "<table border=\"1\" class=\"dataframe\">\n",
       "  <thead>\n",
       "    <tr style=\"text-align: right;\">\n",
       "      <th></th>\n",
       "      <th>normalised review count</th>\n",
       "    </tr>\n",
       "    <tr>\n",
       "      <th>date</th>\n",
       "      <th></th>\n",
       "    </tr>\n",
       "  </thead>\n",
       "  <tbody>\n",
       "    <tr>\n",
       "      <td>2005-12-31</td>\n",
       "      <td>0.003636</td>\n",
       "    </tr>\n",
       "    <tr>\n",
       "      <td>2006-12-31</td>\n",
       "      <td>0.011880</td>\n",
       "    </tr>\n",
       "    <tr>\n",
       "      <td>2007-12-31</td>\n",
       "      <td>0.009271</td>\n",
       "    </tr>\n",
       "    <tr>\n",
       "      <td>2008-12-31</td>\n",
       "      <td>0.009337</td>\n",
       "    </tr>\n",
       "    <tr>\n",
       "      <td>2009-12-31</td>\n",
       "      <td>0.009547</td>\n",
       "    </tr>\n",
       "    <tr>\n",
       "      <td>2010-12-31</td>\n",
       "      <td>0.012188</td>\n",
       "    </tr>\n",
       "    <tr>\n",
       "      <td>2011-12-31</td>\n",
       "      <td>0.009276</td>\n",
       "    </tr>\n",
       "    <tr>\n",
       "      <td>2012-12-31</td>\n",
       "      <td>0.008306</td>\n",
       "    </tr>\n",
       "    <tr>\n",
       "      <td>2013-12-31</td>\n",
       "      <td>0.008974</td>\n",
       "    </tr>\n",
       "    <tr>\n",
       "      <td>2014-12-31</td>\n",
       "      <td>0.009576</td>\n",
       "    </tr>\n",
       "  </tbody>\n",
       "</table>\n",
       "</div>"
      ],
      "text/plain": [
       "            normalised review count\n",
       "date                               \n",
       "2005-12-31                 0.003636\n",
       "2006-12-31                 0.011880\n",
       "2007-12-31                 0.009271\n",
       "2008-12-31                 0.009337\n",
       "2009-12-31                 0.009547\n",
       "2010-12-31                 0.012188\n",
       "2011-12-31                 0.009276\n",
       "2012-12-31                 0.008306\n",
       "2013-12-31                 0.008974\n",
       "2014-12-31                 0.009576"
      ]
     },
     "execution_count": 81,
     "metadata": {},
     "output_type": "execute_result"
    }
   ],
   "source": [
    "# Seperate out Hawaiian cuisine\n",
    "Hawaiian = reviews_only[reviews_only.cuisine == 'Hawaiian']\n",
    "# Specify the data columns we want to include \n",
    "data_columns = ['normalised review count']\n",
    "# Resample to weekly frequency, aggregating with mean\n",
    "Hawaiian_yearly = Hawaiian[data_columns].resample('A').sum()\n",
    "Hawaiian_yearly.head(10)"
   ]
  },
  {
   "cell_type": "code",
   "execution_count": 100,
   "metadata": {},
   "outputs": [
    {
     "data": {
      "image/png": "[encoded data removed]",
      "text/plain": [
       "<Figure size 432x288 with 1 Axes>"
      ]
     },
     "metadata": {
      "needs_background": "light"
     },
     "output_type": "display_data"
    }
   ],
   "source": [
    "# Plot real time and weekly resampled time series together\n",
    "fig, ax = plt.subplots()\n",
    "ax.plot(Hawaiian_yearly.loc[start:end, 'normalised review count'],\n",
    "marker = 'o', markersize = 8,linestyle='-', label='Yearly Normalised Count Resample')\n",
    "ax.set_ylabel('Number of reviews / Total reviews in Cal Year')\n",
    "ax.legend()\n",
    "plt.title('Hawaiian Cuisine');"
   ]
  },
  {
   "cell_type": "code",
   "execution_count": 83,
   "metadata": {},
   "outputs": [
    {
     "data": {
      "text/html": [
       "<div>\n",
       "<style scoped>\n",
       "    .dataframe tbody tr th:only-of-type {\n",
       "        vertical-align: middle;\n",
       "    }\n",
       "\n",
       "    .dataframe tbody tr th {\n",
       "        vertical-align: top;\n",
       "    }\n",
       "\n",
       "    .dataframe thead th {\n",
       "        text-align: right;\n",
       "    }\n",
       "</style>\n",
       "<table border=\"1\" class=\"dataframe\">\n",
       "  <thead>\n",
       "    <tr style=\"text-align: right;\">\n",
       "      <th></th>\n",
       "      <th>normalised review count</th>\n",
       "    </tr>\n",
       "    <tr>\n",
       "      <th>date</th>\n",
       "      <th></th>\n",
       "    </tr>\n",
       "  </thead>\n",
       "  <tbody>\n",
       "    <tr>\n",
       "      <td>2006-12-31</td>\n",
       "      <td>0.001398</td>\n",
       "    </tr>\n",
       "    <tr>\n",
       "      <td>2007-12-31</td>\n",
       "      <td>0.001605</td>\n",
       "    </tr>\n",
       "    <tr>\n",
       "      <td>2008-12-31</td>\n",
       "      <td>0.003069</td>\n",
       "    </tr>\n",
       "    <tr>\n",
       "      <td>2009-12-31</td>\n",
       "      <td>0.003781</td>\n",
       "    </tr>\n",
       "    <tr>\n",
       "      <td>2010-12-31</td>\n",
       "      <td>0.001448</td>\n",
       "    </tr>\n",
       "    <tr>\n",
       "      <td>2011-12-31</td>\n",
       "      <td>0.001510</td>\n",
       "    </tr>\n",
       "    <tr>\n",
       "      <td>2012-12-31</td>\n",
       "      <td>0.002125</td>\n",
       "    </tr>\n",
       "    <tr>\n",
       "      <td>2013-12-31</td>\n",
       "      <td>0.001341</td>\n",
       "    </tr>\n",
       "    <tr>\n",
       "      <td>2014-12-31</td>\n",
       "      <td>0.001437</td>\n",
       "    </tr>\n",
       "    <tr>\n",
       "      <td>2015-12-31</td>\n",
       "      <td>0.001351</td>\n",
       "    </tr>\n",
       "  </tbody>\n",
       "</table>\n",
       "</div>"
      ],
      "text/plain": [
       "            normalised review count\n",
       "date                               \n",
       "2006-12-31                 0.001398\n",
       "2007-12-31                 0.001605\n",
       "2008-12-31                 0.003069\n",
       "2009-12-31                 0.003781\n",
       "2010-12-31                 0.001448\n",
       "2011-12-31                 0.001510\n",
       "2012-12-31                 0.002125\n",
       "2013-12-31                 0.001341\n",
       "2014-12-31                 0.001437\n",
       "2015-12-31                 0.001351"
      ]
     },
     "execution_count": 83,
     "metadata": {},
     "output_type": "execute_result"
    }
   ],
   "source": [
    "# Seperate out African cuisine\n",
    "African = reviews_only[reviews_only.cuisine == 'African']\n",
    "# Specify the data columns we want to include \n",
    "data_columns = ['normalised review count']\n",
    "# Resample to weekly frequency, aggregating with mean\n",
    "African_yearly = African[data_columns].resample('A').sum()\n",
    "African_yearly.head(10)"
   ]
  },
  {
   "cell_type": "code",
   "execution_count": 101,
   "metadata": {},
   "outputs": [
    {
     "data": {
      "image/png": "[encoded data removed]",
      "text/plain": [
       "<Figure size 432x288 with 1 Axes>"
      ]
     },
     "metadata": {
      "needs_background": "light"
     },
     "output_type": "display_data"
    }
   ],
   "source": [
    "# Plot real time and weekly resampled time series together\n",
    "fig, ax = plt.subplots()\n",
    "ax.plot(African_yearly.loc[start:end, 'normalised review count'],\n",
    "marker = 'o', markersize = 8,linestyle='-', label='Yearly Normalised Count Resample')\n",
    "ax.set_ylabel('Number of reviews / Total reviews in Cal Year')\n",
    "ax.legend()\n",
    "plt.title('African Cuisine');"
   ]
  },
  {
   "cell_type": "code",
   "execution_count": 85,
   "metadata": {},
   "outputs": [
    {
     "data": {
      "text/html": [
       "<div>\n",
       "<style scoped>\n",
       "    .dataframe tbody tr th:only-of-type {\n",
       "        vertical-align: middle;\n",
       "    }\n",
       "\n",
       "    .dataframe tbody tr th {\n",
       "        vertical-align: top;\n",
       "    }\n",
       "\n",
       "    .dataframe thead th {\n",
       "        text-align: right;\n",
       "    }\n",
       "</style>\n",
       "<table border=\"1\" class=\"dataframe\">\n",
       "  <thead>\n",
       "    <tr style=\"text-align: right;\">\n",
       "      <th></th>\n",
       "      <th>normalised review count</th>\n",
       "    </tr>\n",
       "    <tr>\n",
       "      <th>date</th>\n",
       "      <th></th>\n",
       "    </tr>\n",
       "  </thead>\n",
       "  <tbody>\n",
       "    <tr>\n",
       "      <td>2005-12-31</td>\n",
       "      <td>0.018182</td>\n",
       "    </tr>\n",
       "    <tr>\n",
       "      <td>2006-12-31</td>\n",
       "      <td>0.007687</td>\n",
       "    </tr>\n",
       "    <tr>\n",
       "      <td>2007-12-31</td>\n",
       "      <td>0.009093</td>\n",
       "    </tr>\n",
       "    <tr>\n",
       "      <td>2008-12-31</td>\n",
       "      <td>0.010185</td>\n",
       "    </tr>\n",
       "    <tr>\n",
       "      <td>2009-12-31</td>\n",
       "      <td>0.008836</td>\n",
       "    </tr>\n",
       "    <tr>\n",
       "      <td>2010-12-31</td>\n",
       "      <td>0.007552</td>\n",
       "    </tr>\n",
       "    <tr>\n",
       "      <td>2011-12-31</td>\n",
       "      <td>0.006897</td>\n",
       "    </tr>\n",
       "    <tr>\n",
       "      <td>2012-12-31</td>\n",
       "      <td>0.006159</td>\n",
       "    </tr>\n",
       "    <tr>\n",
       "      <td>2013-12-31</td>\n",
       "      <td>0.004860</td>\n",
       "    </tr>\n",
       "    <tr>\n",
       "      <td>2014-12-31</td>\n",
       "      <td>0.004123</td>\n",
       "    </tr>\n",
       "  </tbody>\n",
       "</table>\n",
       "</div>"
      ],
      "text/plain": [
       "            normalised review count\n",
       "date                               \n",
       "2005-12-31                 0.018182\n",
       "2006-12-31                 0.007687\n",
       "2007-12-31                 0.009093\n",
       "2008-12-31                 0.010185\n",
       "2009-12-31                 0.008836\n",
       "2010-12-31                 0.007552\n",
       "2011-12-31                 0.006897\n",
       "2012-12-31                 0.006159\n",
       "2013-12-31                 0.004860\n",
       "2014-12-31                 0.004123"
      ]
     },
     "execution_count": 85,
     "metadata": {},
     "output_type": "execute_result"
    }
   ],
   "source": [
    "# Seperate out Spanish cuisine\n",
    "Spanish = reviews_only[reviews_only.cuisine == 'Spanish']\n",
    "# Specify the data columns we want to include \n",
    "data_columns = ['normalised review count']\n",
    "# Resample to weekly frequency, aggregating with mean\n",
    "Spanish_yearly = Spanish[data_columns].resample('A').sum()\n",
    "Spanish_yearly.head(10)"
   ]
  },
  {
   "cell_type": "code",
   "execution_count": 102,
   "metadata": {},
   "outputs": [
    {
     "data": {
      "image/png": "[encoded data removed]",
      "text/plain": [
       "<Figure size 432x288 with 1 Axes>"
      ]
     },
     "metadata": {
      "needs_background": "light"
     },
     "output_type": "display_data"
    }
   ],
   "source": [
    "# Plot real time and weekly resampled time series together\n",
    "fig, ax = plt.subplots()\n",
    "ax.plot(Spanish_yearly.loc[start:end, 'normalised review count'],\n",
    "marker = 'o', markersize = 8,linestyle='-', label='Yearly Normalised Count Resample')\n",
    "ax.set_ylabel('Number of reviews / Total reviews in Cal Year')\n",
    "ax.legend()\n",
    "plt.title('Spanish Cuisine');"
   ]
  },
  {
   "cell_type": "markdown",
   "metadata": {},
   "source": [
    "The cuisines exhibiting trend an upward trend are: Hawaiian, Korean, Mexican"
   ]
  },
  {
   "cell_type": "markdown",
   "metadata": {},
   "source": [
    "## Analysing trends in sub-cuisine of Hawaiian, Korean, Mexican"
   ]
  },
  {
   "cell_type": "code",
   "execution_count": 156,
   "metadata": {},
   "outputs": [],
   "source": [
    "#only select relevant columns \n",
    "sub_cuisine_analysis = restaurants_reviews[['business_id','name','address','city','state','avg_star','review_count','sub_cuisine','categories','cuisine','review_id','user_id','review_star','useful','funny','cool','text','date']]"
   ]
  },
  {
   "cell_type": "code",
   "execution_count": 157,
   "metadata": {},
   "outputs": [],
   "source": [
    "#set date as index \n",
    "sub_cuisine_analysis = sub_cuisine_analysis.set_index('date')"
   ]
  },
  {
   "cell_type": "code",
   "execution_count": 158,
   "metadata": {},
   "outputs": [
    {
     "name": "stdout",
     "output_type": "stream",
     "text": [
      "2004-10-12 10:13:32\n",
      "2018-11-14 18:13:16\n"
     ]
    }
   ],
   "source": [
    "# check min and max date of reviews\n",
    "print (sub_cuisine_analysis.index.min())\n",
    "print (sub_cuisine_analysis.index.max())"
   ]
  },
  {
   "cell_type": "code",
   "execution_count": 159,
   "metadata": {},
   "outputs": [],
   "source": [
    "#set number of reviews in each row to 1 \n",
    "sub_cuisine_analysis.loc[:,'number of reviews'] = int(1)"
   ]
  },
  {
   "cell_type": "code",
   "execution_count": 160,
   "metadata": {},
   "outputs": [
    {
     "data": {
      "text/plain": [
       "date\n",
       "2004-12-31         8\n",
       "2005-12-31       476\n",
       "2006-12-31      2288\n",
       "2007-12-31      9168\n",
       "2008-12-31     24455\n",
       "2009-12-31     41821\n",
       "2010-12-31     73486\n",
       "2011-12-31    115883\n",
       "2012-12-31    135630\n",
       "2013-12-31    178911\n",
       "2014-12-31    254054\n",
       "2015-12-31    339938\n",
       "2016-12-31    384427\n",
       "2017-12-31    435383\n",
       "2018-12-31    427211\n",
       "Freq: A-DEC, Name: number of reviews, dtype: int64"
      ]
     },
     "execution_count": 160,
     "metadata": {},
     "output_type": "execute_result"
    }
   ],
   "source": [
    "# show total number of reviews each year\n",
    "test2 = sub_cuisine_analysis.groupby([pd.Grouper(level ='date',freq='A')])['number of reviews'].count()\n",
    "test2"
   ]
  },
  {
   "cell_type": "code",
   "execution_count": 162,
   "metadata": {},
   "outputs": [],
   "source": [
    "# create column that shows total number of reviews between a date range\n",
    "reviews2004 = sub_cuisine_analysis.loc['2004-01-01':'2004-12-31']\n",
    "reviews2005 = sub_cuisine_analysis.loc['2005-01-01':'2005-12-31']\n",
    "reviews2006 = sub_cuisine_analysis.loc['2006-01-01':'2006-12-31']\n",
    "reviews2007 = sub_cuisine_analysis.loc['2007-01-01':'2007-12-31']\n",
    "reviews2008 = sub_cuisine_analysis.loc['2008-01-01':'2008-12-31']\n",
    "reviews2009 = sub_cuisine_analysis.loc['2009-01-01':'2009-12-31']\n",
    "reviews2010 = sub_cuisine_analysis.loc['2010-01-01':'2010-12-31']\n",
    "reviews2011 = sub_cuisine_analysis.loc['2011-01-01':'2011-12-31']\n",
    "reviews2012 = sub_cuisine_analysis.loc['2012-01-01':'2012-12-31']\n",
    "reviews2013 = sub_cuisine_analysis.loc['2013-01-01':'2013-12-31']\n",
    "reviews2014 = sub_cuisine_analysis.loc['2014-01-01':'2014-12-31']\n",
    "reviews2015 = sub_cuisine_analysis.loc['2015-01-01':'2015-12-31']\n",
    "reviews2016 = sub_cuisine_analysis.loc['2016-01-01':'2016-12-31']\n",
    "reviews2017 = sub_cuisine_analysis.loc['2017-01-01':'2017-12-31']\n",
    "reviews2018 = sub_cuisine_analysis.loc['2018-01-01':'2018-12-31']"
   ]
  },
  {
   "cell_type": "code",
   "execution_count": 163,
   "metadata": {},
   "outputs": [],
   "source": [
    "# create column that shows total number of reviews between a date range\n",
    "reviews2004.loc[:,'total reviews in cal year'] = 8\n",
    "reviews2005.loc[:,'total reviews in cal year'] = 476\n",
    "reviews2006.loc[:,'total reviews in cal year'] = 2288\n",
    "reviews2007.loc[:,'total reviews in cal year'] = 9168\n",
    "reviews2008.loc[:,'total reviews in cal year'] = 24455\n",
    "reviews2009.loc[:,'total reviews in cal year'] = 41821\n",
    "reviews2010.loc[:,'total reviews in cal year'] = 73486\n",
    "reviews2011.loc[:,'total reviews in cal year'] = 115883\n",
    "reviews2012.loc[:,'total reviews in cal year'] = 135630\n",
    "reviews2013.loc[:,'total reviews in cal year'] = 178911\n",
    "reviews2014.loc[:,'total reviews in cal year'] = 254054\n",
    "reviews2015.loc[:,'total reviews in cal year'] = 339938\n",
    "reviews2016.loc[:,'total reviews in cal year'] = 384427\n",
    "reviews2017.loc[:,'total reviews in cal year'] = 435383\n",
    "reviews2018.loc[:,'total reviews in cal year'] = 427211"
   ]
  },
  {
   "cell_type": "code",
   "execution_count": 164,
   "metadata": {},
   "outputs": [],
   "source": [
    "# create column that shows total number of reviews between a date range\n",
    "sub_cuisine_analysis = reviews2004.append(reviews2005) \n",
    "sub_cuisine_analysis = sub_cuisine_analysis.append(reviews2006)\n",
    "sub_cuisine_analysis = sub_cuisine_analysis.append(reviews2007)\n",
    "sub_cuisine_analysis = sub_cuisine_analysis.append(reviews2008)\n",
    "sub_cuisine_analysis = sub_cuisine_analysis.append(reviews2009)\n",
    "sub_cuisine_analysis = sub_cuisine_analysis.append(reviews2010)\n",
    "sub_cuisine_analysis = sub_cuisine_analysis.append(reviews2011)\n",
    "sub_cuisine_analysis = sub_cuisine_analysis.append(reviews2012)\n",
    "sub_cuisine_analysis = sub_cuisine_analysis.append(reviews2013)\n",
    "sub_cuisine_analysis = sub_cuisine_analysis.append(reviews2014)\n",
    "sub_cuisine_analysis = sub_cuisine_analysis.append(reviews2015)\n",
    "sub_cuisine_analysis = sub_cuisine_analysis.append(reviews2016)\n",
    "sub_cuisine_analysis = sub_cuisine_analysis.append(reviews2017)\n",
    "sub_cuisine_analysis = sub_cuisine_analysis.append(reviews2018)"
   ]
  },
  {
   "cell_type": "code",
   "execution_count": 186,
   "metadata": {},
   "outputs": [],
   "source": [
    "#normalise review count by dividing it by total number of reviews in the year\n",
    "sub_cuisine_analysis.loc[:,'normalised review count'] = sub_cuisine_analysis['number of reviews']/sub_cuisine_analysis['total reviews in cal year']"
   ]
  },
  {
   "cell_type": "code",
   "execution_count": 181,
   "metadata": {},
   "outputs": [
    {
     "data": {
      "text/plain": [
       "Bars                  425176\n",
       "Breakfast & Brunch    352670\n",
       "Pizza                 237914\n",
       "Fast Food             116671\n",
       "Sushi Bars            114607\n",
       "Burgers               112885\n",
       "Desserts               66490\n",
       "Sandwiches             61954\n",
       "Seafood                57901\n",
       "Cafes                  47991\n",
       "Steakhouses            41043\n",
       "Specialty Food         41003\n",
       "Buffets                29198\n",
       "Barbeque               27243\n",
       "Caterers               26980\n",
       "Comfort Food           22826\n",
       "Vegetarian             21735\n",
       "Salad                  11988\n",
       "Latin American          9887\n",
       "Tacos                   8734\n",
       "Tex Mex                 8253\n",
       "Gluten Free             8085\n",
       "Chicken Wings           6535\n",
       "Halal                   5683\n",
       "Ramen                   5626\n",
       "Caribbean               4946\n",
       "Hot Dogs                4552\n",
       "Food Stands             4091\n",
       "Cantonese               4033\n",
       "Szechuan                3727\n",
       "Bubble Tea              3008\n",
       "Poke                    2305\n",
       "Street Vendors          2235\n",
       "Creperies               1571\n",
       "Dim Sum                 1494\n",
       "Filipino                1400\n",
       "Falafel                 1081\n",
       "Brasseries               881\n",
       "Hot Pot                  700\n",
       "Kosher                   440\n",
       "Kebab                    403\n",
       "Bistros                  373\n",
       "Basque                   310\n",
       "Ethnic Food              152\n",
       "Portuguese               104\n",
       "Izakaya                   76\n",
       "Name: sub_cuisine, dtype: int64"
      ]
     },
     "execution_count": 181,
     "metadata": {},
     "output_type": "execute_result"
    }
   ],
   "source": [
    "# View number of subcuisines in file\n",
    "sub_cuisine_analysis.sub_cuisine.value_counts()"
   ]
  },
  {
   "cell_type": "markdown",
   "metadata": {},
   "source": [
    "Haiwaiian Cuisine Analysis\n",
    "\n",
    "Plotted trend of top 5 most frequent sub-categories and noted the following had an upward trend:\n",
    "Seafood, Poke, Barbeque, Breakfast & Brunch"
   ]
  },
  {
   "cell_type": "code",
   "execution_count": 152,
   "metadata": {},
   "outputs": [
    {
     "data": {
      "text/plain": [
       "Seafood               5025\n",
       "Sushi Bars            4368\n",
       "Poke                  1336\n",
       "Barbeque              1001\n",
       "Breakfast & Brunch     855\n",
       "Fast Food              539\n",
       "Bars                   517\n",
       "Caterers               381\n",
       "Filipino               322\n",
       "Sandwiches             263\n",
       "Gluten Free            201\n",
       "Cafes                  172\n",
       "Burgers                152\n",
       "Caribbean              128\n",
       "Desserts                49\n",
       "Pizza                   46\n",
       "Creperies               38\n",
       "Street Vendors          32\n",
       "Specialty Food          19\n",
       "Food Stands             11\n",
       "Name: sub_cuisine, dtype: int64"
      ]
     },
     "execution_count": 152,
     "metadata": {},
     "output_type": "execute_result"
    }
   ],
   "source": [
    "# count number of each subcategory in Haiwaiian cuisine\n",
    "Hawaiian = sub_cuisine_analysis[sub_cuisine_analysis.cuisine == 'Hawaiian']\n",
    "Hawaiian.sub_cuisine.value_counts()"
   ]
  },
  {
   "cell_type": "code",
   "execution_count": 166,
   "metadata": {},
   "outputs": [
    {
     "data": {
      "text/html": [
       "<div>\n",
       "<style scoped>\n",
       "    .dataframe tbody tr th:only-of-type {\n",
       "        vertical-align: middle;\n",
       "    }\n",
       "\n",
       "    .dataframe tbody tr th {\n",
       "        vertical-align: top;\n",
       "    }\n",
       "\n",
       "    .dataframe thead th {\n",
       "        text-align: right;\n",
       "    }\n",
       "</style>\n",
       "<table border=\"1\" class=\"dataframe\">\n",
       "  <thead>\n",
       "    <tr style=\"text-align: right;\">\n",
       "      <th></th>\n",
       "      <th>normalised review count</th>\n",
       "    </tr>\n",
       "    <tr>\n",
       "      <th>date</th>\n",
       "      <th></th>\n",
       "    </tr>\n",
       "  </thead>\n",
       "  <tbody>\n",
       "    <tr>\n",
       "      <td>2009-12-31</td>\n",
       "      <td>0.000167</td>\n",
       "    </tr>\n",
       "    <tr>\n",
       "      <td>2010-12-31</td>\n",
       "      <td>0.000259</td>\n",
       "    </tr>\n",
       "    <tr>\n",
       "      <td>2011-12-31</td>\n",
       "      <td>0.000285</td>\n",
       "    </tr>\n",
       "    <tr>\n",
       "      <td>2012-12-31</td>\n",
       "      <td>0.000170</td>\n",
       "    </tr>\n",
       "    <tr>\n",
       "      <td>2013-12-31</td>\n",
       "      <td>0.000319</td>\n",
       "    </tr>\n",
       "    <tr>\n",
       "      <td>2014-12-31</td>\n",
       "      <td>0.000354</td>\n",
       "    </tr>\n",
       "    <tr>\n",
       "      <td>2015-12-31</td>\n",
       "      <td>0.000377</td>\n",
       "    </tr>\n",
       "    <tr>\n",
       "      <td>2016-12-31</td>\n",
       "      <td>0.000515</td>\n",
       "    </tr>\n",
       "    <tr>\n",
       "      <td>2017-12-31</td>\n",
       "      <td>0.002230</td>\n",
       "    </tr>\n",
       "    <tr>\n",
       "      <td>2018-12-31</td>\n",
       "      <td>0.001823</td>\n",
       "    </tr>\n",
       "  </tbody>\n",
       "</table>\n",
       "</div>"
      ],
      "text/plain": [
       "            normalised review count\n",
       "date                               \n",
       "2009-12-31                 0.000167\n",
       "2010-12-31                 0.000259\n",
       "2011-12-31                 0.000285\n",
       "2012-12-31                 0.000170\n",
       "2013-12-31                 0.000319\n",
       "2014-12-31                 0.000354\n",
       "2015-12-31                 0.000377\n",
       "2016-12-31                 0.000515\n",
       "2017-12-31                 0.002230\n",
       "2018-12-31                 0.001823"
      ]
     },
     "execution_count": 166,
     "metadata": {},
     "output_type": "execute_result"
    }
   ],
   "source": [
    "Hawaiian_Poke = sub_cuisine_analysis[sub_cuisine_analysis.sub_cuisine == 'Poke']\n",
    "# Specify the data columns we want to include \n",
    "data_columns = ['normalised review count']\n",
    "# Resample to weekly frequency, aggregating with mean\n",
    "Hawaiian_Poke_yearly = Hawaiian_Poke[data_columns].resample('A').sum()\n",
    "Hawaiian_Poke_yearly.head(10)"
   ]
  },
  {
   "cell_type": "code",
   "execution_count": 175,
   "metadata": {},
   "outputs": [
    {
     "data": {
      "image/png": "[encoded data removed]",
      "text/plain": [
       "<Figure size 432x288 with 1 Axes>"
      ]
     },
     "metadata": {
      "needs_background": "light"
     },
     "output_type": "display_data"
    }
   ],
   "source": [
    "# Plot real time and weekly resampled time series together\n",
    "fig, ax = plt.subplots()\n",
    "ax.plot(Hawaiian_Poke_yearly.loc[start:end, 'normalised review count'],\n",
    "marker = 'o', markersize = 8,linestyle='-', label='Yearly Normalised Count Resample')\n",
    "ax.set_ylabel('Number of reviews / Total reviews in Cal Year')\n",
    "ax.legend()\n",
    "plt.title('Poke');"
   ]
  },
  {
   "cell_type": "code",
   "execution_count": 168,
   "metadata": {},
   "outputs": [
    {
     "data": {
      "text/html": [
       "<div>\n",
       "<style scoped>\n",
       "    .dataframe tbody tr th:only-of-type {\n",
       "        vertical-align: middle;\n",
       "    }\n",
       "\n",
       "    .dataframe tbody tr th {\n",
       "        vertical-align: top;\n",
       "    }\n",
       "\n",
       "    .dataframe thead th {\n",
       "        text-align: right;\n",
       "    }\n",
       "</style>\n",
       "<table border=\"1\" class=\"dataframe\">\n",
       "  <thead>\n",
       "    <tr style=\"text-align: right;\">\n",
       "      <th></th>\n",
       "      <th>normalised review count</th>\n",
       "    </tr>\n",
       "    <tr>\n",
       "      <th>date</th>\n",
       "      <th></th>\n",
       "    </tr>\n",
       "  </thead>\n",
       "  <tbody>\n",
       "    <tr>\n",
       "      <td>2005-12-31</td>\n",
       "      <td>0.018908</td>\n",
       "    </tr>\n",
       "    <tr>\n",
       "      <td>2006-12-31</td>\n",
       "      <td>0.046329</td>\n",
       "    </tr>\n",
       "    <tr>\n",
       "      <td>2007-12-31</td>\n",
       "      <td>0.054974</td>\n",
       "    </tr>\n",
       "    <tr>\n",
       "      <td>2008-12-31</td>\n",
       "      <td>0.052750</td>\n",
       "    </tr>\n",
       "    <tr>\n",
       "      <td>2009-12-31</td>\n",
       "      <td>0.052342</td>\n",
       "    </tr>\n",
       "    <tr>\n",
       "      <td>2010-12-31</td>\n",
       "      <td>0.050908</td>\n",
       "    </tr>\n",
       "    <tr>\n",
       "      <td>2011-12-31</td>\n",
       "      <td>0.048834</td>\n",
       "    </tr>\n",
       "    <tr>\n",
       "      <td>2012-12-31</td>\n",
       "      <td>0.045949</td>\n",
       "    </tr>\n",
       "    <tr>\n",
       "      <td>2013-12-31</td>\n",
       "      <td>0.046951</td>\n",
       "    </tr>\n",
       "    <tr>\n",
       "      <td>2014-12-31</td>\n",
       "      <td>0.047588</td>\n",
       "    </tr>\n",
       "  </tbody>\n",
       "</table>\n",
       "</div>"
      ],
      "text/plain": [
       "            normalised review count\n",
       "date                               \n",
       "2005-12-31                 0.018908\n",
       "2006-12-31                 0.046329\n",
       "2007-12-31                 0.054974\n",
       "2008-12-31                 0.052750\n",
       "2009-12-31                 0.052342\n",
       "2010-12-31                 0.050908\n",
       "2011-12-31                 0.048834\n",
       "2012-12-31                 0.045949\n",
       "2013-12-31                 0.046951\n",
       "2014-12-31                 0.047588"
      ]
     },
     "execution_count": 168,
     "metadata": {},
     "output_type": "execute_result"
    }
   ],
   "source": [
    "Sushi_Bars = sub_cuisine_analysis[sub_cuisine_analysis.sub_cuisine == 'Sushi Bars']\n",
    "# Specify the data columns we want to include \n",
    "data_columns = ['normalised review count']\n",
    "# Resample to weekly frequency, aggregating with mean\n",
    "Sushi_Bars_yearly = Sushi_Bars[data_columns].resample('A').sum()\n",
    "Sushi_Bars_yearly.head(10)"
   ]
  },
  {
   "cell_type": "code",
   "execution_count": 176,
   "metadata": {},
   "outputs": [
    {
     "data": {
      "image/png": "[encoded data removed]",
      "text/plain": [
       "<Figure size 432x288 with 1 Axes>"
      ]
     },
     "metadata": {
      "needs_background": "light"
     },
     "output_type": "display_data"
    }
   ],
   "source": [
    "# Plot real time and weekly resampled time series together\n",
    "fig, ax = plt.subplots()\n",
    "ax.plot(Sushi_Bars_yearly.loc[start:end, 'normalised review count'],\n",
    "marker = 'o', markersize = 8,linestyle='-', label='Yearly Normalised Count Resample')\n",
    "ax.set_ylabel('Number of reviews / Total reviews in Cal Year')\n",
    "ax.legend()\n",
    "plt.title('Sushi Bars');"
   ]
  },
  {
   "cell_type": "code",
   "execution_count": 177,
   "metadata": {},
   "outputs": [
    {
     "data": {
      "text/html": [
       "<div>\n",
       "<style scoped>\n",
       "    .dataframe tbody tr th:only-of-type {\n",
       "        vertical-align: middle;\n",
       "    }\n",
       "\n",
       "    .dataframe tbody tr th {\n",
       "        vertical-align: top;\n",
       "    }\n",
       "\n",
       "    .dataframe thead th {\n",
       "        text-align: right;\n",
       "    }\n",
       "</style>\n",
       "<table border=\"1\" class=\"dataframe\">\n",
       "  <thead>\n",
       "    <tr style=\"text-align: right;\">\n",
       "      <th></th>\n",
       "      <th>normalised review count</th>\n",
       "    </tr>\n",
       "    <tr>\n",
       "      <th>date</th>\n",
       "      <th></th>\n",
       "    </tr>\n",
       "  </thead>\n",
       "  <tbody>\n",
       "    <tr>\n",
       "      <td>2005-12-31</td>\n",
       "      <td>0.004202</td>\n",
       "    </tr>\n",
       "    <tr>\n",
       "      <td>2006-12-31</td>\n",
       "      <td>0.006993</td>\n",
       "    </tr>\n",
       "    <tr>\n",
       "      <td>2007-12-31</td>\n",
       "      <td>0.007308</td>\n",
       "    </tr>\n",
       "    <tr>\n",
       "      <td>2008-12-31</td>\n",
       "      <td>0.009732</td>\n",
       "    </tr>\n",
       "    <tr>\n",
       "      <td>2009-12-31</td>\n",
       "      <td>0.011071</td>\n",
       "    </tr>\n",
       "    <tr>\n",
       "      <td>2010-12-31</td>\n",
       "      <td>0.011812</td>\n",
       "    </tr>\n",
       "    <tr>\n",
       "      <td>2011-12-31</td>\n",
       "      <td>0.011313</td>\n",
       "    </tr>\n",
       "    <tr>\n",
       "      <td>2012-12-31</td>\n",
       "      <td>0.011096</td>\n",
       "    </tr>\n",
       "    <tr>\n",
       "      <td>2013-12-31</td>\n",
       "      <td>0.009413</td>\n",
       "    </tr>\n",
       "    <tr>\n",
       "      <td>2014-12-31</td>\n",
       "      <td>0.009876</td>\n",
       "    </tr>\n",
       "  </tbody>\n",
       "</table>\n",
       "</div>"
      ],
      "text/plain": [
       "            normalised review count\n",
       "date                               \n",
       "2005-12-31                 0.004202\n",
       "2006-12-31                 0.006993\n",
       "2007-12-31                 0.007308\n",
       "2008-12-31                 0.009732\n",
       "2009-12-31                 0.011071\n",
       "2010-12-31                 0.011812\n",
       "2011-12-31                 0.011313\n",
       "2012-12-31                 0.011096\n",
       "2013-12-31                 0.009413\n",
       "2014-12-31                 0.009876"
      ]
     },
     "execution_count": 177,
     "metadata": {},
     "output_type": "execute_result"
    }
   ],
   "source": [
    "Barbeque = sub_cuisine_analysis[sub_cuisine_analysis.sub_cuisine == 'Barbeque']\n",
    "# Specify the data columns we want to include \n",
    "data_columns = ['normalised review count']\n",
    "# Resample to weekly frequency, aggregating with mean\n",
    "Barbeque_yearly = Barbeque[data_columns].resample('A').sum()\n",
    "Barbeque_yearly.head(10)"
   ]
  },
  {
   "cell_type": "code",
   "execution_count": 178,
   "metadata": {},
   "outputs": [
    {
     "data": {
      "image/png": "[encoded data removed]",
      "text/plain": [
       "<Figure size 432x288 with 1 Axes>"
      ]
     },
     "metadata": {
      "needs_background": "light"
     },
     "output_type": "display_data"
    }
   ],
   "source": [
    "# Plot real time and weekly resampled time series together\n",
    "fig, ax = plt.subplots()\n",
    "ax.plot(Barbeque_yearly.loc[start:end, 'normalised review count'],\n",
    "marker = 'o', markersize = 8,linestyle='-', label='Yearly Normalised Count Resample')\n",
    "ax.set_ylabel('Number of reviews / Total reviews in Cal Year')\n",
    "ax.legend()\n",
    "plt.title('Barbeque');"
   ]
  },
  {
   "cell_type": "code",
   "execution_count": 172,
   "metadata": {},
   "outputs": [
    {
     "data": {
      "text/html": [
       "<div>\n",
       "<style scoped>\n",
       "    .dataframe tbody tr th:only-of-type {\n",
       "        vertical-align: middle;\n",
       "    }\n",
       "\n",
       "    .dataframe tbody tr th {\n",
       "        vertical-align: top;\n",
       "    }\n",
       "\n",
       "    .dataframe thead th {\n",
       "        text-align: right;\n",
       "    }\n",
       "</style>\n",
       "<table border=\"1\" class=\"dataframe\">\n",
       "  <thead>\n",
       "    <tr style=\"text-align: right;\">\n",
       "      <th></th>\n",
       "      <th>normalised review count</th>\n",
       "    </tr>\n",
       "    <tr>\n",
       "      <th>date</th>\n",
       "      <th></th>\n",
       "    </tr>\n",
       "  </thead>\n",
       "  <tbody>\n",
       "    <tr>\n",
       "      <td>2005-12-31</td>\n",
       "      <td>0.121849</td>\n",
       "    </tr>\n",
       "    <tr>\n",
       "      <td>2006-12-31</td>\n",
       "      <td>0.099213</td>\n",
       "    </tr>\n",
       "    <tr>\n",
       "      <td>2007-12-31</td>\n",
       "      <td>0.100785</td>\n",
       "    </tr>\n",
       "    <tr>\n",
       "      <td>2008-12-31</td>\n",
       "      <td>0.108894</td>\n",
       "    </tr>\n",
       "    <tr>\n",
       "      <td>2009-12-31</td>\n",
       "      <td>0.116855</td>\n",
       "    </tr>\n",
       "    <tr>\n",
       "      <td>2010-12-31</td>\n",
       "      <td>0.121479</td>\n",
       "    </tr>\n",
       "    <tr>\n",
       "      <td>2011-12-31</td>\n",
       "      <td>0.122581</td>\n",
       "    </tr>\n",
       "    <tr>\n",
       "      <td>2012-12-31</td>\n",
       "      <td>0.125142</td>\n",
       "    </tr>\n",
       "    <tr>\n",
       "      <td>2013-12-31</td>\n",
       "      <td>0.133664</td>\n",
       "    </tr>\n",
       "    <tr>\n",
       "      <td>2014-12-31</td>\n",
       "      <td>0.141289</td>\n",
       "    </tr>\n",
       "  </tbody>\n",
       "</table>\n",
       "</div>"
      ],
      "text/plain": [
       "            normalised review count\n",
       "date                               \n",
       "2005-12-31                 0.121849\n",
       "2006-12-31                 0.099213\n",
       "2007-12-31                 0.100785\n",
       "2008-12-31                 0.108894\n",
       "2009-12-31                 0.116855\n",
       "2010-12-31                 0.121479\n",
       "2011-12-31                 0.122581\n",
       "2012-12-31                 0.125142\n",
       "2013-12-31                 0.133664\n",
       "2014-12-31                 0.141289"
      ]
     },
     "execution_count": 172,
     "metadata": {},
     "output_type": "execute_result"
    }
   ],
   "source": [
    "Breakfast_Brunch = sub_cuisine_analysis[sub_cuisine_analysis.sub_cuisine == 'Breakfast & Brunch']\n",
    "# Specify the data columns we want to include \n",
    "data_columns = ['normalised review count']\n",
    "# Resample to weekly frequency, aggregating with mean\n",
    "Breakfast_Brunch_yearly = Breakfast_Brunch[data_columns].resample('A').sum()\n",
    "Breakfast_Brunch_yearly.head(10)"
   ]
  },
  {
   "cell_type": "code",
   "execution_count": 179,
   "metadata": {},
   "outputs": [
    {
     "data": {
      "image/png": "[encoded data removed]",
      "text/plain": [
       "<Figure size 432x288 with 1 Axes>"
      ]
     },
     "metadata": {
      "needs_background": "light"
     },
     "output_type": "display_data"
    }
   ],
   "source": [
    "# Plot real time and weekly resampled time series together\n",
    "fig, ax = plt.subplots()\n",
    "ax.plot(Breakfast_Brunch_yearly.loc[start:end, 'normalised review count'],\n",
    "marker = 'o', markersize = 8,linestyle='-', label='Yearly Normalised Count Resample')\n",
    "ax.set_ylabel('Number of reviews / Total reviews in Cal Year')\n",
    "ax.legend()\n",
    "plt.title('Breakfast & Brunch');"
   ]
  },
  {
   "cell_type": "code",
   "execution_count": 180,
   "metadata": {},
   "outputs": [
    {
     "data": {
      "image/png": "[encoded data removed]",
      "text/plain": [
       "<Figure size 432x288 with 1 Axes>"
      ]
     },
     "metadata": {
      "needs_background": "light"
     },
     "output_type": "display_data"
    }
   ],
   "source": [
    "Seafood = sub_cuisine_analysis[sub_cuisine_analysis.sub_cuisine == 'Seafood']\n",
    "# Specify the data columns we want to include \n",
    "data_columns = ['normalised review count']\n",
    "# Resample to weekly frequency, aggregating with mean\n",
    "Seafood_yearly = Seafood[data_columns].resample('A').sum()\n",
    "# Plot real time and weekly resampled time series together\n",
    "fig, ax = plt.subplots()\n",
    "ax.plot(Seafood_yearly.loc[start:end, 'normalised review count'],\n",
    "marker = 'o', markersize = 8,linestyle='-', label='Yearly Normalised Count Resample')\n",
    "ax.set_ylabel('Number of reviews / Total reviews in Cal Year')\n",
    "ax.legend()\n",
    "plt.title('Seafood');"
   ]
  },
  {
   "cell_type": "markdown",
   "metadata": {},
   "source": [
    "Now I am checking the number of reviews that contains the word 'poke' across all reviews. "
   ]
  },
  {
   "cell_type": "code",
   "execution_count": 183,
   "metadata": {
    "scrolled": true
   },
   "outputs": [
    {
     "data": {
      "text/html": [
       "<div>\n",
       "<style scoped>\n",
       "    .dataframe tbody tr th:only-of-type {\n",
       "        vertical-align: middle;\n",
       "    }\n",
       "\n",
       "    .dataframe tbody tr th {\n",
       "        vertical-align: top;\n",
       "    }\n",
       "\n",
       "    .dataframe thead th {\n",
       "        text-align: right;\n",
       "    }\n",
       "</style>\n",
       "<table border=\"1\" class=\"dataframe\">\n",
       "  <thead>\n",
       "    <tr style=\"text-align: right;\">\n",
       "      <th></th>\n",
       "      <th>business_id</th>\n",
       "      <th>name</th>\n",
       "      <th>address</th>\n",
       "      <th>city</th>\n",
       "      <th>state</th>\n",
       "      <th>avg_star</th>\n",
       "      <th>review_count</th>\n",
       "      <th>sub_cuisine</th>\n",
       "      <th>categories</th>\n",
       "      <th>cuisine</th>\n",
       "      <th>...</th>\n",
       "      <th>user_id</th>\n",
       "      <th>review_star</th>\n",
       "      <th>useful</th>\n",
       "      <th>funny</th>\n",
       "      <th>cool</th>\n",
       "      <th>text</th>\n",
       "      <th>number of reviews</th>\n",
       "      <th>total reviews in cal year</th>\n",
       "      <th>normalised review count</th>\n",
       "      <th>Poke</th>\n",
       "    </tr>\n",
       "    <tr>\n",
       "      <th>date</th>\n",
       "      <th></th>\n",
       "      <th></th>\n",
       "      <th></th>\n",
       "      <th></th>\n",
       "      <th></th>\n",
       "      <th></th>\n",
       "      <th></th>\n",
       "      <th></th>\n",
       "      <th></th>\n",
       "      <th></th>\n",
       "      <th></th>\n",
       "      <th></th>\n",
       "      <th></th>\n",
       "      <th></th>\n",
       "      <th></th>\n",
       "      <th></th>\n",
       "      <th></th>\n",
       "      <th></th>\n",
       "      <th></th>\n",
       "      <th></th>\n",
       "      <th></th>\n",
       "    </tr>\n",
       "  </thead>\n",
       "  <tbody>\n",
       "    <tr>\n",
       "      <td>2004-12-19 20:56:54</td>\n",
       "      <td>N2PlDjUJVfOJzsPzY0Au1w</td>\n",
       "      <td>China King Super Buffet</td>\n",
       "      <td>930 Tyvola Rd</td>\n",
       "      <td>Charlotte</td>\n",
       "      <td>NC</td>\n",
       "      <td>2.0</td>\n",
       "      <td>11</td>\n",
       "      <td>Buffets</td>\n",
       "      <td>Restaurants, Chinese, Buffets</td>\n",
       "      <td>Chinese</td>\n",
       "      <td>...</td>\n",
       "      <td>62GNFh5FySkA3MbrQmnqvg</td>\n",
       "      <td>3.0</td>\n",
       "      <td>0</td>\n",
       "      <td>0</td>\n",
       "      <td>0</td>\n",
       "      <td>Not the best part of town.  Not particularly g...</td>\n",
       "      <td>1</td>\n",
       "      <td>8</td>\n",
       "      <td>0.125</td>\n",
       "      <td>0.0</td>\n",
       "    </tr>\n",
       "    <tr>\n",
       "      <td>2004-12-19 20:47:24</td>\n",
       "      <td>ydUqgWsF3F27TbauOyib0w</td>\n",
       "      <td>Panda's Den</td>\n",
       "      <td>5724 E Wt Harris Blvd</td>\n",
       "      <td>Charlotte</td>\n",
       "      <td>NC</td>\n",
       "      <td>4.0</td>\n",
       "      <td>43</td>\n",
       "      <td>NaN</td>\n",
       "      <td>Chinese, Restaurants</td>\n",
       "      <td>Chinese</td>\n",
       "      <td>...</td>\n",
       "      <td>62GNFh5FySkA3MbrQmnqvg</td>\n",
       "      <td>4.0</td>\n",
       "      <td>1</td>\n",
       "      <td>1</td>\n",
       "      <td>1</td>\n",
       "      <td>Frequently busy due to their great food, but t...</td>\n",
       "      <td>1</td>\n",
       "      <td>8</td>\n",
       "      <td>0.125</td>\n",
       "      <td>0.0</td>\n",
       "    </tr>\n",
       "    <tr>\n",
       "      <td>2004-10-19 21:34:40</td>\n",
       "      <td>oYMsq2Xvzw6UbrIlMWjb-A</td>\n",
       "      <td>Papa John's Pizza</td>\n",
       "      <td>106 E Green St</td>\n",
       "      <td>Champaign</td>\n",
       "      <td>IL</td>\n",
       "      <td>2.5</td>\n",
       "      <td>29</td>\n",
       "      <td>Pizza</td>\n",
       "      <td>Restaurants, Pizza</td>\n",
       "      <td>NaN</td>\n",
       "      <td>...</td>\n",
       "      <td>nkN_do3fJ9xekchVC-v68A</td>\n",
       "      <td>4.0</td>\n",
       "      <td>0</td>\n",
       "      <td>0</td>\n",
       "      <td>0</td>\n",
       "      <td>Love their pizza. They used to have a great ta...</td>\n",
       "      <td>1</td>\n",
       "      <td>8</td>\n",
       "      <td>0.125</td>\n",
       "      <td>0.0</td>\n",
       "    </tr>\n",
       "    <tr>\n",
       "      <td>2004-10-19 21:35:14</td>\n",
       "      <td>AtLv64FV-Pw6JuT3XUKU1g</td>\n",
       "      <td>Gumby's Pizza</td>\n",
       "      <td>1409 S Neil St</td>\n",
       "      <td>Champaign</td>\n",
       "      <td>IL</td>\n",
       "      <td>3.5</td>\n",
       "      <td>41</td>\n",
       "      <td>Pizza</td>\n",
       "      <td>Food, Restaurants, Pizza</td>\n",
       "      <td>NaN</td>\n",
       "      <td>...</td>\n",
       "      <td>nkN_do3fJ9xekchVC-v68A</td>\n",
       "      <td>4.0</td>\n",
       "      <td>0</td>\n",
       "      <td>0</td>\n",
       "      <td>0</td>\n",
       "      <td>Pokey Sticks are the best!</td>\n",
       "      <td>1</td>\n",
       "      <td>8</td>\n",
       "      <td>0.125</td>\n",
       "      <td>1.0</td>\n",
       "    </tr>\n",
       "    <tr>\n",
       "      <td>2004-10-19 19:24:13</td>\n",
       "      <td>u8C8pRvaHXg3PgDrsUHJHQ</td>\n",
       "      <td>Papa Del's Pizza</td>\n",
       "      <td>1201 S Neil St</td>\n",
       "      <td>Champaign</td>\n",
       "      <td>IL</td>\n",
       "      <td>3.5</td>\n",
       "      <td>402</td>\n",
       "      <td>Pizza</td>\n",
       "      <td>Food Delivery Services, Salad, Restaurants, Fo...</td>\n",
       "      <td>NaN</td>\n",
       "      <td>...</td>\n",
       "      <td>nkN_do3fJ9xekchVC-v68A</td>\n",
       "      <td>4.0</td>\n",
       "      <td>0</td>\n",
       "      <td>1</td>\n",
       "      <td>0</td>\n",
       "      <td>Good stuff. Pricey by normal pizza standards.</td>\n",
       "      <td>1</td>\n",
       "      <td>8</td>\n",
       "      <td>0.125</td>\n",
       "      <td>0.0</td>\n",
       "    </tr>\n",
       "  </tbody>\n",
       "</table>\n",
       "<p>5 rows × 21 columns</p>\n",
       "</div>"
      ],
      "text/plain": [
       "                                business_id                     name  \\\n",
       "date                                                                   \n",
       "2004-12-19 20:56:54  N2PlDjUJVfOJzsPzY0Au1w  China King Super Buffet   \n",
       "2004-12-19 20:47:24  ydUqgWsF3F27TbauOyib0w              Panda's Den   \n",
       "2004-10-19 21:34:40  oYMsq2Xvzw6UbrIlMWjb-A        Papa John's Pizza   \n",
       "2004-10-19 21:35:14  AtLv64FV-Pw6JuT3XUKU1g            Gumby's Pizza   \n",
       "2004-10-19 19:24:13  u8C8pRvaHXg3PgDrsUHJHQ         Papa Del's Pizza   \n",
       "\n",
       "                                   address       city state  avg_star  \\\n",
       "date                                                                    \n",
       "2004-12-19 20:56:54          930 Tyvola Rd  Charlotte    NC       2.0   \n",
       "2004-12-19 20:47:24  5724 E Wt Harris Blvd  Charlotte    NC       4.0   \n",
       "2004-10-19 21:34:40         106 E Green St  Champaign    IL       2.5   \n",
       "2004-10-19 21:35:14         1409 S Neil St  Champaign    IL       3.5   \n",
       "2004-10-19 19:24:13         1201 S Neil St  Champaign    IL       3.5   \n",
       "\n",
       "                     review_count sub_cuisine  \\\n",
       "date                                            \n",
       "2004-12-19 20:56:54            11     Buffets   \n",
       "2004-12-19 20:47:24            43         NaN   \n",
       "2004-10-19 21:34:40            29       Pizza   \n",
       "2004-10-19 21:35:14            41       Pizza   \n",
       "2004-10-19 19:24:13           402       Pizza   \n",
       "\n",
       "                                                            categories  \\\n",
       "date                                                                     \n",
       "2004-12-19 20:56:54                      Restaurants, Chinese, Buffets   \n",
       "2004-12-19 20:47:24                               Chinese, Restaurants   \n",
       "2004-10-19 21:34:40                                 Restaurants, Pizza   \n",
       "2004-10-19 21:35:14                           Food, Restaurants, Pizza   \n",
       "2004-10-19 19:24:13  Food Delivery Services, Salad, Restaurants, Fo...   \n",
       "\n",
       "                     cuisine  ...                 user_id review_star  useful  \\\n",
       "date                          ...                                               \n",
       "2004-12-19 20:56:54  Chinese  ...  62GNFh5FySkA3MbrQmnqvg         3.0       0   \n",
       "2004-12-19 20:47:24  Chinese  ...  62GNFh5FySkA3MbrQmnqvg         4.0       1   \n",
       "2004-10-19 21:34:40      NaN  ...  nkN_do3fJ9xekchVC-v68A         4.0       0   \n",
       "2004-10-19 21:35:14      NaN  ...  nkN_do3fJ9xekchVC-v68A         4.0       0   \n",
       "2004-10-19 19:24:13      NaN  ...  nkN_do3fJ9xekchVC-v68A         4.0       0   \n",
       "\n",
       "                     funny  cool  \\\n",
       "date                               \n",
       "2004-12-19 20:56:54      0     0   \n",
       "2004-12-19 20:47:24      1     1   \n",
       "2004-10-19 21:34:40      0     0   \n",
       "2004-10-19 21:35:14      0     0   \n",
       "2004-10-19 19:24:13      1     0   \n",
       "\n",
       "                                                                  text  \\\n",
       "date                                                                     \n",
       "2004-12-19 20:56:54  Not the best part of town.  Not particularly g...   \n",
       "2004-12-19 20:47:24  Frequently busy due to their great food, but t...   \n",
       "2004-10-19 21:34:40  Love their pizza. They used to have a great ta...   \n",
       "2004-10-19 21:35:14                         Pokey Sticks are the best!   \n",
       "2004-10-19 19:24:13      Good stuff. Pricey by normal pizza standards.   \n",
       "\n",
       "                    number of reviews  total reviews in cal year  \\\n",
       "date                                                               \n",
       "2004-12-19 20:56:54                 1                          8   \n",
       "2004-12-19 20:47:24                 1                          8   \n",
       "2004-10-19 21:34:40                 1                          8   \n",
       "2004-10-19 21:35:14                 1                          8   \n",
       "2004-10-19 19:24:13                 1                          8   \n",
       "\n",
       "                     normalised review count  Poke  \n",
       "date                                                \n",
       "2004-12-19 20:56:54                    0.125   0.0  \n",
       "2004-12-19 20:47:24                    0.125   0.0  \n",
       "2004-10-19 21:34:40                    0.125   0.0  \n",
       "2004-10-19 21:35:14                    0.125   1.0  \n",
       "2004-10-19 19:24:13                    0.125   0.0  \n",
       "\n",
       "[5 rows x 21 columns]"
      ]
     },
     "execution_count": 183,
     "metadata": {},
     "output_type": "execute_result"
    }
   ],
   "source": [
    "Poke = sub_cuisine_analysis\n",
    "Poke ['Poke'] = pd.Series()\n",
    "Poke.loc[Poke.text.str.contains('poke',case = False),'Poke'] = 1\n",
    "Poke['Poke'].fillna(0, inplace=True)\n",
    "Poke.head()"
   ]
  },
  {
   "cell_type": "code",
   "execution_count": 189,
   "metadata": {},
   "outputs": [],
   "source": [
    "#normalise review count by dividing it by total number of reviews in the year\n",
    "Poke.loc[:,'normalised review count'] = Poke['Poke']/Poke['total reviews in cal year']"
   ]
  },
  {
   "cell_type": "code",
   "execution_count": 199,
   "metadata": {},
   "outputs": [
    {
     "data": {
      "image/png": "[encoded data removed]",
      "text/plain": [
       "<Figure size 432x288 with 1 Axes>"
      ]
     },
     "metadata": {
      "needs_background": "light"
     },
     "output_type": "display_data"
    }
   ],
   "source": [
    "# Specify the data columns we want to include \n",
    "data_columns = ['normalised review count']\n",
    "# Resample to weekly frequency, aggregating with mean\n",
    "Poke_yearly = Poke[data_columns].resample('A').sum()\n",
    "# Plot real time and weekly resampled time series together\n",
    "fig, ax = plt.subplots()\n",
    "ax.plot(Poke_yearly.loc[start:end, 'normalised review count'],\n",
    "marker = 'o', markersize = 8,linestyle='-', label='Yearly Normalised Count Resample')\n",
    "ax.set_ylabel('Number of reviews with Poke / Total reviews in Cal Year')\n",
    "ax.legend()\n",
    "plt.title('Reviews containing Poke');"
   ]
  },
  {
   "cell_type": "markdown",
   "metadata": {},
   "source": [
    "Korean Cuisine Analysis\n",
    "\n",
    "Plotted trend of top 5 most frequent sub-categories and noted the following had an upward trend:\n",
    "xxxxxxxxxxxxxxx"
   ]
  },
  {
   "cell_type": "code",
   "execution_count": null,
   "metadata": {},
   "outputs": [],
   "source": []
  },
  {
   "cell_type": "code",
   "execution_count": null,
   "metadata": {},
   "outputs": [],
   "source": []
  },
  {
   "cell_type": "code",
   "execution_count": null,
   "metadata": {},
   "outputs": [],
   "source": []
  },
  {
   "cell_type": "code",
   "execution_count": null,
   "metadata": {},
   "outputs": [],
   "source": []
  },
  {
   "cell_type": "code",
   "execution_count": null,
   "metadata": {},
   "outputs": [],
   "source": []
  },
  {
   "cell_type": "code",
   "execution_count": null,
   "metadata": {},
   "outputs": [],
   "source": []
  },
  {
   "cell_type": "code",
   "execution_count": null,
   "metadata": {},
   "outputs": [],
   "source": []
  },
  {
   "cell_type": "code",
   "execution_count": null,
   "metadata": {},
   "outputs": [],
   "source": []
  },
  {
   "cell_type": "code",
   "execution_count": null,
   "metadata": {},
   "outputs": [],
   "source": []
  }
 ],
 "metadata": {
  "kernelspec": {
   "display_name": "Python 3",
   "language": "python",
   "name": "python3"
  },
  "language_info": {
   "codemirror_mode": {
    "name": "ipython",
    "version": 3
   },
   "file_extension": ".py",
   "mimetype": "text/x-python",
   "name": "python",
   "nbconvert_exporter": "python",
   "pygments_lexer": "ipython3",
   "version": "3.7.4"
  }
 },
 "nbformat": 4,
 "nbformat_minor": 2
}
